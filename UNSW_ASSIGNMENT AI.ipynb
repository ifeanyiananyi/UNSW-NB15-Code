{
  "nbformat": 4,
  "nbformat_minor": 0,
  "metadata": {
    "colab": {
      "name": "UNSW ASSIGNMENT.ipynb",
      "provenance": [],
      "collapsed_sections": []
    },
    "kernelspec": {
      "name": "python3",
      "display_name": "Python 3"
    },
    "language_info": {
      "name": "python"
    }
  },
  "cells": [
    {
      "cell_type": "markdown",
      "source": [
        "## Importing Pyspark Libraries"
      ],
      "metadata": {
        "id": "dsLBhKWETvsy"
      }
    },
    {
      "cell_type": "code",
      "source": [
        "!pip install pyspark"
      ],
      "metadata": {
        "colab": {
          "base_uri": "https://localhost:8080/"
        },
        "id": "pRuLXCCHT2HH",
        "outputId": "0b886e31-dccd-4db9-b7cf-2c00a4148fbb"
      },
      "execution_count": null,
      "outputs": [
        {
          "output_type": "stream",
          "name": "stdout",
          "text": [
            "Collecting pyspark\n",
            "  Downloading pyspark-3.2.0.tar.gz (281.3 MB)\n",
            "\u001b[K     |████████████████████████████████| 281.3 MB 37 kB/s \n",
            "\u001b[?25hCollecting py4j==0.10.9.2\n",
            "  Downloading py4j-0.10.9.2-py2.py3-none-any.whl (198 kB)\n",
            "\u001b[K     |████████████████████████████████| 198 kB 39.3 MB/s \n",
            "\u001b[?25hBuilding wheels for collected packages: pyspark\n",
            "  Building wheel for pyspark (setup.py) ... \u001b[?25l\u001b[?25hdone\n",
            "  Created wheel for pyspark: filename=pyspark-3.2.0-py2.py3-none-any.whl size=281805912 sha256=9fe63a1d3a7d5cb0333df378fbd4312db54a9677cee2c7ff16dd7b5d4cc5d5da\n",
            "  Stored in directory: /root/.cache/pip/wheels/0b/de/d2/9be5d59d7331c6c2a7c1b6d1a4f463ce107332b1ecd4e80718\n",
            "Successfully built pyspark\n",
            "Installing collected packages: py4j, pyspark\n",
            "Successfully installed py4j-0.10.9.2 pyspark-3.2.0\n"
          ]
        }
      ]
    },
    {
      "cell_type": "code",
      "source": [
        "import pyspark\n",
        "from pyspark.sql import SparkSession\n",
        "from pyspark.sql.types import IntegerType\n",
        "from pyspark.sql.functions import isnan, when, count, col,lit\n",
        "from pyspark import SparkContext, HiveContext\n",
        "from pyspark.sql.functions import substring\n",
        "import matplotlib.pyplot as plt\n",
        "import seaborn as sns\n",
        "from pyspark.ml.feature import StringIndexer, VectorAssembler, VectorSlicer\n",
        "from pyspark.ml.feature import StandardScaler\n",
        "from sklearn.metrics import confusion_matrix,classification_report"
      ],
      "metadata": {
        "id": "9_CYOfLaT0g3"
      },
      "execution_count": null,
      "outputs": []
    },
    {
      "cell_type": "markdown",
      "source": [
        "## Setting Up Spark and Hive Context"
      ],
      "metadata": {
        "id": "kZ2yYDR0TplA"
      }
    },
    {
      "cell_type": "code",
      "execution_count": null,
      "metadata": {
        "colab": {
          "base_uri": "https://localhost:8080/"
        },
        "id": "1i9cYK82TZEy",
        "outputId": "fa1afa42-ef0b-4ba0-b657-eb7bfb38389b"
      },
      "outputs": [
        {
          "output_type": "stream",
          "name": "stderr",
          "text": [
            "/usr/local/lib/python3.7/dist-packages/pyspark/sql/context.py:604: FutureWarning: HiveContext is deprecated in Spark 2.0.0. Please use SparkSession.builder.enableHiveSupport().getOrCreate() instead.\n",
            "  FutureWarning\n"
          ]
        }
      ],
      "source": [
        "sc = SparkContext(appName = \"Hive_opertations\")\n",
        "hive_context = HiveContext(sc)"
      ]
    },
    {
      "cell_type": "code",
      "source": [
        "#create a sparksession \n",
        "spark = SparkSession.builder.getOrCreate()"
      ],
      "metadata": {
        "id": "hdaL-7xiUFra"
      },
      "execution_count": null,
      "outputs": []
    },
    {
      "cell_type": "code",
      "source": [
        "spark"
      ],
      "metadata": {
        "colab": {
          "base_uri": "https://localhost:8080/",
          "height": 222
        },
        "id": "YtWerQAyUKsD",
        "outputId": "6494a8bd-de3d-4e43-bc1b-6e098ae69261"
      },
      "execution_count": null,
      "outputs": [
        {
          "output_type": "execute_result",
          "data": {
            "text/html": [
              "\n",
              "            <div>\n",
              "                <p><b>SparkSession - hive</b></p>\n",
              "                \n",
              "        <div>\n",
              "            <p><b>SparkContext</b></p>\n",
              "\n",
              "            <p><a href=\"http://b672565fd5dc:4040\">Spark UI</a></p>\n",
              "\n",
              "            <dl>\n",
              "              <dt>Version</dt>\n",
              "                <dd><code>v3.2.0</code></dd>\n",
              "              <dt>Master</dt>\n",
              "                <dd><code>local[*]</code></dd>\n",
              "              <dt>AppName</dt>\n",
              "                <dd><code>Hive_opertations</code></dd>\n",
              "            </dl>\n",
              "        </div>\n",
              "        \n",
              "            </div>\n",
              "        "
            ],
            "text/plain": [
              "<pyspark.sql.session.SparkSession at 0x7fedaa4b5410>"
            ]
          },
          "metadata": {},
          "execution_count": 5
        }
      ]
    },
    {
      "cell_type": "markdown",
      "source": [
        "## Load The Data"
      ],
      "metadata": {
        "id": "md5_xgmCUSe3"
      }
    },
    {
      "cell_type": "code",
      "source": [
        "## Read data\n",
        "data = spark.read.csv(\"/content/drive/MyDrive/UNSW-NB15.csv\",inferSchema=True,header=False)"
      ],
      "metadata": {
        "id": "UXLaZGLPUT-q"
      },
      "execution_count": null,
      "outputs": []
    },
    {
      "cell_type": "code",
      "source": [
        "# read feature data\n",
        "feature_data = spark.read.csv(\"/content/UNSW-NB15_features.csv\",inferSchema=True,header=True)"
      ],
      "metadata": {
        "id": "EM60Ycn0Uhim"
      },
      "execution_count": null,
      "outputs": []
    },
    {
      "cell_type": "markdown",
      "source": [
        "## Renaming Columns"
      ],
      "metadata": {
        "id": "mL2MG0EAUbtW"
      }
    },
    {
      "cell_type": "code",
      "execution_count": null,
      "metadata": {
        "id": "NXHBywBjPkb-"
      },
      "outputs": [],
      "source": [
        "col = feature_data.select(\"Name\").rdd.flatMap(lambda x: x).collect()\n",
        "o_c=data.columns"
      ]
    },
    {
      "cell_type": "code",
      "execution_count": null,
      "metadata": {
        "id": "IXCaFdOHPkb_"
      },
      "outputs": [],
      "source": [
        "#rename column\n",
        "for i in range(49):\n",
        "    data = data.withColumnRenamed(o_c[i],col[i])"
      ]
    },
    {
      "cell_type": "code",
      "source": [
        "data.printSchema()"
      ],
      "metadata": {
        "colab": {
          "base_uri": "https://localhost:8080/"
        },
        "id": "fHC4JYNbnpqD",
        "outputId": "d9ba18ca-fe56-40ef-df32-6ca52c9c178a"
      },
      "execution_count": null,
      "outputs": [
        {
          "output_type": "stream",
          "name": "stdout",
          "text": [
            "root\n",
            " |-- srcip: string (nullable = true)\n",
            " |-- sport: integer (nullable = true)\n",
            " |-- dstip: string (nullable = true)\n",
            " |-- dsport: integer (nullable = true)\n",
            " |-- proto: string (nullable = true)\n",
            " |-- state: string (nullable = true)\n",
            " |-- dur: double (nullable = true)\n",
            " |-- sbytes: integer (nullable = true)\n",
            " |-- dbytes: integer (nullable = true)\n",
            " |-- sttl: integer (nullable = true)\n",
            " |-- dttl: integer (nullable = true)\n",
            " |-- sloss: integer (nullable = true)\n",
            " |-- dloss: integer (nullable = true)\n",
            " |-- service: string (nullable = true)\n",
            " |-- Sload: double (nullable = true)\n",
            " |-- Dload: double (nullable = true)\n",
            " |-- Spkts: integer (nullable = true)\n",
            " |-- Dpkts: integer (nullable = true)\n",
            " |-- swin: integer (nullable = true)\n",
            " |-- dwin: integer (nullable = true)\n",
            " |-- stcpb: long (nullable = true)\n",
            " |-- dtcpb: long (nullable = true)\n",
            " |-- smeansz: integer (nullable = true)\n",
            " |-- dmeansz: integer (nullable = true)\n",
            " |-- trans_depth: integer (nullable = true)\n",
            " |-- res_bdy_len: integer (nullable = true)\n",
            " |-- Sjit: double (nullable = true)\n",
            " |-- Djit: double (nullable = true)\n",
            " |-- Stime: integer (nullable = true)\n",
            " |-- Ltime: integer (nullable = true)\n",
            " |-- Sintpkt: double (nullable = true)\n",
            " |-- Dintpkt: double (nullable = true)\n",
            " |-- tcprtt: double (nullable = true)\n",
            " |-- synack: double (nullable = true)\n",
            " |-- ackdat: double (nullable = true)\n",
            " |-- is_sm_ips_ports: integer (nullable = true)\n",
            " |-- ct_state_ttl: integer (nullable = true)\n",
            " |-- ct_flw_http_mthd: integer (nullable = true)\n",
            " |-- is_ftp_login: integer (nullable = true)\n",
            " |-- ct_ftp_cmd: integer (nullable = true)\n",
            " |-- ct_srv_src: integer (nullable = true)\n",
            " |-- ct_srv_dst: integer (nullable = true)\n",
            " |-- ct_dst_ltm: integer (nullable = true)\n",
            " |-- ct_src_ ltm: integer (nullable = true)\n",
            " |-- ct_src_dport_ltm: integer (nullable = true)\n",
            " |-- ct_dst_sport_ltm: integer (nullable = true)\n",
            " |-- ct_dst_src_ltm: integer (nullable = true)\n",
            " |-- attack_cat: string (nullable = true)\n",
            " |-- Label: integer (nullable = true)\n",
            "\n"
          ]
        }
      ]
    },
    {
      "cell_type": "markdown",
      "source": [
        "## Total Number of Rows"
      ],
      "metadata": {
        "id": "0OCqSciPU02l"
      }
    },
    {
      "cell_type": "code",
      "source": [
        "print(\"Total Numbers of rows in the dataset are {0} \".format(data.count()))"
      ],
      "metadata": {
        "colab": {
          "base_uri": "https://localhost:8080/"
        },
        "id": "htAKVTz5U0sG",
        "outputId": "13cb6125-33fe-432a-ac24-0864c7b4c315"
      },
      "execution_count": null,
      "outputs": [
        {
          "output_type": "stream",
          "name": "stdout",
          "text": [
            "Total Numbers of rows in the dataset are 2539739 \n"
          ]
        }
      ]
    },
    {
      "cell_type": "markdown",
      "source": [
        "## Dataframe Schema"
      ],
      "metadata": {
        "id": "s_dXpfFBU46v"
      }
    },
    {
      "cell_type": "code",
      "source": [
        "data.printSchema()"
      ],
      "metadata": {
        "colab": {
          "base_uri": "https://localhost:8080/"
        },
        "id": "8EosV3QBU4M4",
        "outputId": "98849689-30a5-47a2-9937-9552f7409f09"
      },
      "execution_count": null,
      "outputs": [
        {
          "output_type": "stream",
          "name": "stdout",
          "text": [
            "root\n",
            " |-- srcip: string (nullable = true)\n",
            " |-- sport: integer (nullable = true)\n",
            " |-- dstip: string (nullable = true)\n",
            " |-- dsport: integer (nullable = true)\n",
            " |-- proto: string (nullable = true)\n",
            " |-- state: string (nullable = true)\n",
            " |-- dur: double (nullable = true)\n",
            " |-- sbytes: integer (nullable = true)\n",
            " |-- dbytes: integer (nullable = true)\n",
            " |-- sttl: integer (nullable = true)\n",
            " |-- dttl: integer (nullable = true)\n",
            " |-- sloss: integer (nullable = true)\n",
            " |-- dloss: integer (nullable = true)\n",
            " |-- service: string (nullable = true)\n",
            " |-- Sload: double (nullable = true)\n",
            " |-- Dload: double (nullable = true)\n",
            " |-- Spkts: integer (nullable = true)\n",
            " |-- Dpkts: integer (nullable = true)\n",
            " |-- swin: integer (nullable = true)\n",
            " |-- dwin: integer (nullable = true)\n",
            " |-- stcpb: long (nullable = true)\n",
            " |-- dtcpb: long (nullable = true)\n",
            " |-- smeansz: integer (nullable = true)\n",
            " |-- dmeansz: integer (nullable = true)\n",
            " |-- trans_depth: integer (nullable = true)\n",
            " |-- res_bdy_len: integer (nullable = true)\n",
            " |-- Sjit: double (nullable = true)\n",
            " |-- Djit: double (nullable = true)\n",
            " |-- Stime: integer (nullable = true)\n",
            " |-- Ltime: integer (nullable = true)\n",
            " |-- Sintpkt: double (nullable = true)\n",
            " |-- Dintpkt: double (nullable = true)\n",
            " |-- tcprtt: double (nullable = true)\n",
            " |-- synack: double (nullable = true)\n",
            " |-- ackdat: double (nullable = true)\n",
            " |-- is_sm_ips_ports: integer (nullable = true)\n",
            " |-- ct_state_ttl: integer (nullable = true)\n",
            " |-- ct_flw_http_mthd: integer (nullable = true)\n",
            " |-- is_ftp_login: integer (nullable = true)\n",
            " |-- ct_ftp_cmd: integer (nullable = true)\n",
            " |-- ct_srv_src: integer (nullable = true)\n",
            " |-- ct_srv_dst: integer (nullable = true)\n",
            " |-- ct_dst_ltm: integer (nullable = true)\n",
            " |-- ct_src_ ltm: integer (nullable = true)\n",
            " |-- ct_src_dport_ltm: integer (nullable = true)\n",
            " |-- ct_dst_sport_ltm: integer (nullable = true)\n",
            " |-- ct_dst_src_ltm: integer (nullable = true)\n",
            " |-- attack_cat: string (nullable = true)\n",
            " |-- Label: integer (nullable = true)\n",
            "\n"
          ]
        }
      ]
    },
    {
      "cell_type": "markdown",
      "source": [
        "## Creating a Hive Tabele"
      ],
      "metadata": {
        "id": "UHazDiFMVD_J"
      }
    },
    {
      "cell_type": "code",
      "execution_count": null,
      "metadata": {
        "id": "0Qr7Y523PkcC",
        "colab": {
          "base_uri": "https://localhost:8080/"
        },
        "outputId": "f8b8d740-5a6d-453e-f29d-11504eb6be91"
      },
      "outputs": [
        {
          "output_type": "stream",
          "name": "stderr",
          "text": [
            "/usr/local/lib/python3.7/dist-packages/pyspark/sql/dataframe.py:140: FutureWarning: Deprecated in 2.0, use createOrReplaceTempView instead.\n",
            "  FutureWarning\n"
          ]
        }
      ],
      "source": [
        "# Register this dataframe as a Table\n",
        "data.registerTempTable(\"data_h\")"
      ]
    },
    {
      "cell_type": "code",
      "execution_count": null,
      "metadata": {
        "id": "Hsh8RDvoPkcD",
        "outputId": "6e16f64a-441f-4c56-c835-a9d935577129",
        "colab": {
          "base_uri": "https://localhost:8080/"
        }
      },
      "outputs": [
        {
          "output_type": "stream",
          "name": "stdout",
          "text": [
            "+----------+-----+-------------+------+-----+-----+----------+------+------+----+----+-----+-----+-------+---------+---------+-----+-----+----+----+----------+----------+-------+-------+-----------+-----------+---------+---------+----------+----------+---------+--------+------------+------------+-------+---------------+------------+----------------+------------+----------+----------+----------+----------+-----------+----------------+----------------+--------------+----------+-----+\n",
            "|     srcip|sport|        dstip|dsport|proto|state|       dur|sbytes|dbytes|sttl|dttl|sloss|dloss|service|    Sload|    Dload|Spkts|Dpkts|swin|dwin|     stcpb|     dtcpb|smeansz|dmeansz|trans_depth|res_bdy_len|     Sjit|     Djit|     Stime|     Ltime|  Sintpkt| Dintpkt|      tcprtt|      synack| ackdat|is_sm_ips_ports|ct_state_ttl|ct_flw_http_mthd|is_ftp_login|ct_ftp_cmd|ct_srv_src|ct_srv_dst|ct_dst_ltm|ct_src_ ltm|ct_src_dport_ltm|ct_dst_sport_ltm|ct_dst_src_ltm|attack_cat|Label|\n",
            "+----------+-----+-------------+------+-----+-----+----------+------+------+----+----+-----+-----+-------+---------+---------+-----+-----+----+----+----------+----------+-------+-------+-----------+-----------+---------+---------+----------+----------+---------+--------+------------+------------+-------+---------------+------------+----------------+------------+----------+----------+----------+----------+-----------+----------------+----------------+--------------+----------+-----+\n",
            "|59.166.0.3|56716|149.171.126.8|   143|  tcp|  FIN|0.82546002|  7812| 16236|  31|  29|   30|   32|      -| 75090.25|156111.73|  122|  126| 255| 255|2751097753|2748686736|     64|    129|          0|          0|445.25928| 474.9451|1421970774|1421970775|6.8190908|6.599896|5.9700001E-4|4.6899999E-4|1.28E-4|              0|           0|               0|           0|         0|         2|         7|         1|          4|               1|               1|             1|      null|    0|\n",
            "|59.166.0.0|43467|149.171.126.6| 49729|  tcp|  FIN|  0.101815|  4238| 65628|  31|  29|    7|   30|      -|328438.84|5087030.5|   72|   74| 255| 255| 961515433|3225510659|     59|    887|          0|          0|      0.0|91.579567|1421970775|1421970775| 1.429493|1.387192|      6.8E-4|5.4600002E-4|1.34E-4|              0|           0|               0|           0|         0|         7|         4|         1|          6|               1|               1|             1|      null|    0|\n",
            "+----------+-----+-------------+------+-----+-----+----------+------+------+----+----+-----+-----+-------+---------+---------+-----+-----+----+----+----------+----------+-------+-------+-----------+-----------+---------+---------+----------+----------+---------+--------+------------+------------+-------+---------------+------------+----------------+------------+----------+----------+----------+----------+-----------+----------------+----------------+--------------+----------+-----+\n",
            "only showing top 2 rows\n",
            "\n"
          ]
        }
      ],
      "source": [
        "# read data using hive query\n",
        "hive_context.sql(\" select * from data_h ;\").show(2)"
      ]
    },
    {
      "cell_type": "markdown",
      "source": [
        "## Showing the Hive Table"
      ],
      "metadata": {
        "id": "txs77tfuVJMr"
      }
    },
    {
      "cell_type": "code",
      "source": [
        "spark.sql(\"show tables\").show()"
      ],
      "metadata": {
        "colab": {
          "base_uri": "https://localhost:8080/"
        },
        "id": "V0tXLqb9VJDa",
        "outputId": "5d3baa64-db7f-4071-d932-fafa32a0cc88"
      },
      "execution_count": null,
      "outputs": [
        {
          "output_type": "stream",
          "name": "stdout",
          "text": [
            "+---------+---------+-----------+\n",
            "|namespace|tableName|isTemporary|\n",
            "+---------+---------+-----------+\n",
            "|         |   data_h|       true|\n",
            "+---------+---------+-----------+\n",
            "\n"
          ]
        }
      ]
    },
    {
      "cell_type": "markdown",
      "source": [
        "# replace null value with normal and create a new column attack_cat_\n"
      ],
      "metadata": {
        "id": "NMaolUXfVSq4"
      }
    },
    {
      "cell_type": "code",
      "source": [
        "data=hive_context.sql(\"select *, nvl(attack_cat,'Normal') as attack_cats from data_h;\")\n",
        "data.show()"
      ],
      "metadata": {
        "colab": {
          "base_uri": "https://localhost:8080/"
        },
        "id": "2-_1SFTfVYVP",
        "outputId": "ae3ecf34-f8b4-4bf7-eb1e-348b231dcbc7"
      },
      "execution_count": null,
      "outputs": [
        {
          "output_type": "stream",
          "name": "stdout",
          "text": [
            "+----------+-----+-------------+------+-----+-----+------------+------+------+----+----+-----+-----+--------+---------+---------+-----+-----+----+----+----------+----------+-------+-------+-----------+-----------+----------+---------+----------+----------+------------+------------+------------+------------+------------+---------------+------------+----------------+------------+----------+----------+----------+----------+-----------+----------------+----------------+--------------+----------+-----+-----------+\n",
            "|     srcip|sport|        dstip|dsport|proto|state|         dur|sbytes|dbytes|sttl|dttl|sloss|dloss| service|    Sload|    Dload|Spkts|Dpkts|swin|dwin|     stcpb|     dtcpb|smeansz|dmeansz|trans_depth|res_bdy_len|      Sjit|     Djit|     Stime|     Ltime|     Sintpkt|     Dintpkt|      tcprtt|      synack|      ackdat|is_sm_ips_ports|ct_state_ttl|ct_flw_http_mthd|is_ftp_login|ct_ftp_cmd|ct_srv_src|ct_srv_dst|ct_dst_ltm|ct_src_ ltm|ct_src_dport_ltm|ct_dst_sport_ltm|ct_dst_src_ltm|attack_cat|Label|attack_cats|\n",
            "+----------+-----+-------------+------+-----+-----+------------+------+------+----+----+-----+-----+--------+---------+---------+-----+-----+----+----+----------+----------+-------+-------+-----------+-----------+----------+---------+----------+----------+------------+------------+------------+------------+------------+---------------+------------+----------------+------------+----------+----------+----------+----------+-----------+----------------+----------------+--------------+----------+-----+-----------+\n",
            "|59.166.0.3|56716|149.171.126.8|   143|  tcp|  FIN|  0.82546002|  7812| 16236|  31|  29|   30|   32|       -| 75090.25|156111.73|  122|  126| 255| 255|2751097753|2748686736|     64|    129|          0|          0| 445.25928| 474.9451|1421970774|1421970775|   6.8190908|    6.599896|5.9700001E-4|4.6899999E-4|     1.28E-4|              0|           0|               0|           0|         0|         2|         7|         1|          4|               1|               1|             1|      null|    0|     Normal|\n",
            "|59.166.0.0|43467|149.171.126.6| 49729|  tcp|  FIN|    0.101815|  4238| 65628|  31|  29|    7|   30|       -|328438.84|5087030.5|   72|   74| 255| 255| 961515433|3225510659|     59|    887|          0|          0|       0.0|91.579567|1421970775|1421970775|    1.429493|    1.387192|      6.8E-4|5.4600002E-4|     1.34E-4|              0|           0|               0|           0|         0|         7|         4|         1|          6|               1|               1|             1|      null|    0|     Normal|\n",
            "|59.166.0.5|41289|149.171.126.2|  9574|  tcp|  FIN| 0.044002999|  2750| 29104|  31|  29|    7|   17|       -|488693.97|5181101.5|   44|   48| 255| 255|3291096757|1191410228|     63|    606|          0|          0| 78.126968|62.206562|1421970775|1421970775|    1.014977|  0.92583001|     0.00125|     4.85E-4|     7.65E-4|              0|           0|               0|           0|         0|         3|         5|         3|          3|               1|               1|             1|      null|    0|     Normal|\n",
            "|59.166.0.9|43785|149.171.126.0|  6881|  tcp|  FIN|   2.7908299| 10476|395734|  31|  29|   16|  143|       -|29863.518|1130840.8|  180|  320| 255| 255|3934392726|3961690324|     58|   1237|          0|          0| 2707.4927| 2018.976|1421970772|1421970775|   15.589459|   8.7470121|6.8400003E-4|5.3199998E-4|1.5199999E-4|              0|           0|               0|           0|         0|        11|         4|         3|          2|               1|               1|             1|      null|    0|     Normal|\n",
            "|59.166.0.8|40691|149.171.126.9|  6881|  tcp|  FIN|   2.6335001| 13350|548216|  31|  29|   21|  197|       -|40381.238|1661560.6|  232|  438| 255| 255|   1518931|  18267719|     58|   1252|          0|          0| 718.33679|500.57288|1421970773|1421970775|   11.399026|   6.0251832|     6.19E-4|     4.89E-4|      1.3E-4|              0|           0|               0|           0|         0|        16|         7|         7|          1|               1|               1|             1|      null|    0|     Normal|\n",
            "|59.166.0.3|20393|149.171.126.3|  5190|  tcp|  FIN|    0.115048|  1958|  2308|  31|  29|    6|    6|       -|129963.15|153814.06|   22|   24| 255| 255|3646899201|3651364285|     89|     96|          0|          0| 435.26627|417.08563|1421970775|1421970775|    5.460381|    4.976913|7.0999999E-4|     5.73E-4|     1.37E-4|              0|           0|               0|           0|         0|         2|         6|         1|          4|               1|               1|             1|      null|    0|     Normal|\n",
            "|59.166.0.7|19792|149.171.126.0|    53|  udp|  CON|    0.003362|   146|   178|  31|  29|    0|    0|     dns|173706.13| 211778.7|    2|    2|   0|   0|         0|         0|     73|     89|          0|          0|       0.0|      0.0|1421970775|1421970775|       0.011|0.0060000001|         0.0|         0.0|         0.0|              0|           0|               0|           0|         0|         3|         2|         3|          3|               3|               1|             1|      null|    0|     Normal|\n",
            "|59.166.0.3|14382|149.171.126.9|  3354|  tcp|  FIN|  0.45305201|   424|  8824|  31|  29|    1|    4|ftp-data| 6551.124| 142835.7|    8|   12| 255| 255|2206905053|3307670308|     53|    735|          0|          0| 3906.7949|3074.6694|1421970775|1421970775|   64.671288|   41.134998|      6.8E-4|5.5900001E-4|     1.21E-4|              0|           0|               0|           0|         0|         4|         6|         7|          4|               1|               1|             2|      null|    0|     Normal|\n",
            "|59.166.0.9|37074|149.171.126.2|    53|  udp|  CON|    0.001088|   146|   178|  31|  29|    0|    0|     dns|536764.69|654411.75|    2|    2|   0|   0|         0|         0|     73|     89|          0|          0|       0.0|      0.0|1421970775|1421970775|       0.001|0.0089999996|         0.0|         0.0|         0.0|              0|           0|               0|           0|         0|         2|         5|         3|          2|               1|               1|             1|      null|    0|     Normal|\n",
            "|59.166.0.7|12569|149.171.126.5|    53|  udp|  CON|9.6899999E-4|   146|   178|  31|  29|    0|    0|     dns|602683.19|734778.13|    2|    2|   0|   0|         0|         0|     73|     89|          0|          0|       0.0|      0.0|1421970775|1421970775|0.0099999998|       0.003|         0.0|         0.0|         0.0|              0|           0|               0|           0|         0|         3|         1|         2|          3|               3|               1|             1|      null|    0|     Normal|\n",
            "|59.166.0.1|12792|149.171.126.7|    53|  udp|  CON|0.0010629999|   146|   178|  31|  29|    0|    0|     dns|549388.56| 669802.5|    2|    2|   0|   0|         0|         0|     73|     89|          0|          0|       0.0|      0.0|1421970780|1421970780|0.0020000001|       0.003|         0.0|         0.0|         0.0|              0|           0|               0|           0|         0|         5|         3|         2|          4|               3|               1|             1|      null|    0|     Normal|\n",
            "|59.166.0.0|63414|149.171.126.9| 10330|  tcp|  FIN|  0.26501101|  8928|   320|  31|  29|    4|    1|ftp-data|250283.94|8060.0425|   14|    6| 255| 255|2386904726|3699988372|    638|     53|          0|          0| 1725.2916|71.464249|1421970775|1421970776|   20.385462|   52.644802|7.7500002E-4|6.3299999E-4|     1.42E-4|              0|           0|               0|           0|         0|         3|         6|         6|          5|               1|               1|             2|      null|    0|     Normal|\n",
            "|59.166.0.1|33555|149.171.126.3|  6881|  tcp|  FIN|  0.51712799|  1540|  1644|  31|  29|    4|    4|       -|22338.764|  24025.0|   16|   18| 255| 255|1741520309|3943579644|     96|     91|          0|          0| 2036.1301| 51.91766|1421970776|1421970776|   34.433331|   30.388353|6.5399997E-4|5.2200002E-4|     1.32E-4|              0|           0|               0|           0|         0|         4|         6|         5|          7|               4|               1|             4|      null|    0|     Normal|\n",
            "|59.166.0.8|10867|149.171.126.8|   111|  udp|  CON|0.0053389999|   568|   312|  31|  29|    0|    0|       -|638321.81|350627.47|    4|    4|   0|   0|         0|         0|    142|     78|          0|          0| 1.7430201| 1.757632|1421970776|1421970776|        1.24|    1.252333|         0.0|         0.0|         0.0|              0|           0|               0|           0|         0|        16|         7|         5|          5|               1|               1|             4|      null|    0|     Normal|\n",
            "|59.166.0.8|12411|149.171.126.8|  1715|  udp|  CON|    0.001739|   512|   304|  31|  29|    0|    0|       -|1766532.5|1048878.6|    4|    4|   0|   0|         0|         0|    128|     76|          0|          0|0.63026798| 0.318434|1421970776|1421970776|  0.44966701|    0.227667|         0.0|         0.0|         0.0|              0|           0|               0|           0|         0|        16|         7|         5|          5|               1|               1|             4|      null|    0|     Normal|\n",
            "|59.166.0.8|46725|149.171.126.2|    53|  udp|  CON|    0.001018|   146|   178|  31|  29|    0|    0|     dns|573673.88|699410.63|    2|    2|   0|   0|         0|         0|     73|     89|          0|          0|       0.0|      0.0|1421970776|1421970776|       0.011|       0.011|         0.0|         0.0|         0.0|              0|           0|               0|           0|         0|         2|         5|         3|          5|               1|               1|             1|      null|    0|     Normal|\n",
            "|59.166.0.1|51562|149.171.126.4|    53|  udp|  CON|    0.001044|   146|   178|  31|  29|    0|    0|     dns|559386.94|681992.31|    2|    2|   0|   0|         0|         0|     73|     89|          0|          0|       0.0|      0.0|1421970776|1421970776|       0.011|       0.003|         0.0|         0.0|         0.0|              0|           0|               0|           0|         0|         2|         3|         5|          7|               2|               1|             3|      null|    0|     Normal|\n",
            "|59.166.0.3|48838|149.171.126.2|    53|  udp|  CON|9.8699995E-4|   146|   178|  31|  29|    0|    0|     dns| 591692.0|721377.94|    2|    2|   0|   0|         0|         0|     73|     89|          0|          0|       0.0|      0.0|1421970776|1421970776|0.0080000004|       0.003|         0.0|         0.0|         0.0|              0|           0|               0|           0|         0|         2|         5|         3|          3|               1|               1|             1|      null|    0|     Normal|\n",
            "|59.166.0.0|16907|149.171.126.9|    21|  tcp|  FIN|   2.2547121|  2934|  3740|  31|  29|   11|   15|     ftp|10211.503|13025.166|   52|   54| 255| 255| 241515551|2584135680|     56|     69|          0|          0| 3141.3708| 99.93412|1421970773|1421970776|   44.203648|   42.531734|6.6100003E-4|5.2499998E-4|     1.36E-4|              0|           0|               0|           0|         0|         1|         3|         6|          5|               1|               1|             2|      null|    0|     Normal|\n",
            "|59.166.0.0| 1915|149.171.126.4| 32945|  tcp|  FIN| 0.051220998|  2854| 29104|  31|  29|    7|   17|       -|436071.16|4450987.0|   46|   48| 255| 255|1921515932|1974066994|     62|    606|          0|          0| 78.226654|76.387978|1421970776|1421970776|   1.1294219|   1.0781699|      8.1E-4|     5.43E-4|     2.67E-4|              0|           0|               0|           0|         0|         7|         2|         5|          5|               1|               1|             2|      null|    0|     Normal|\n",
            "+----------+-----+-------------+------+-----+-----+------------+------+------+----+----+-----+-----+--------+---------+---------+-----+-----+----+----+----------+----------+-------+-------+-----------+-----------+----------+---------+----------+----------+------------+------------+------------+------------+------------+---------------+------------+----------------+------------+----------+----------+----------+----------+-----------+----------------+----------------+--------------+----------+-----+-----------+\n",
            "only showing top 20 rows\n",
            "\n"
          ]
        }
      ]
    },
    {
      "cell_type": "markdown",
      "source": [
        "## Dropping old Attack Cat column"
      ],
      "metadata": {
        "id": "ePIVrMAkVk4x"
      }
    },
    {
      "cell_type": "code",
      "source": [
        "df = data.drop('attack_cat')"
      ],
      "metadata": {
        "id": "pPcjJ2q0VnZP"
      },
      "execution_count": null,
      "outputs": []
    },
    {
      "cell_type": "markdown",
      "source": [
        "## Summary of The dataset\n",
        "\n",
        "* Count\n",
        "* Mean\n",
        "* STD \n",
        "* Min \n",
        "* Max"
      ],
      "metadata": {
        "id": "7GEDLu0qVtRE"
      }
    },
    {
      "cell_type": "code",
      "source": [
        "df.describe().show()"
      ],
      "metadata": {
        "colab": {
          "base_uri": "https://localhost:8080/"
        },
        "id": "DerDDwjiVumr",
        "outputId": "8ef4eade-6026-4eb9-8cfd-921c5784020d"
      },
      "execution_count": null,
      "outputs": [
        {
          "output_type": "stream",
          "name": "stdout",
          "text": [
            "+-------+-----------+------------------+-----------+------------------+-------+-------+------------------+-----------------+------------------+-----------------+------------------+-----------------+------------------+-------+--------------------+-----------------+-----------------+------------------+------------------+------------------+--------------------+--------------------+------------------+------------------+-------------------+------------------+------------------+------------------+--------------------+--------------------+------------------+-----------------+--------------------+--------------------+-------------------+--------------------+-------------------+-------------------+-------------------+--------------------+------------------+------------------+-----------------+-----------------+-----------------+-----------------+------------------+-------------------+-----------+\n",
            "|summary|      srcip|             sport|      dstip|            dsport|  proto|  state|               dur|           sbytes|            dbytes|             sttl|              dttl|            sloss|             dloss|service|               Sload|            Dload|            Spkts|             Dpkts|              swin|              dwin|               stcpb|               dtcpb|           smeansz|           dmeansz|        trans_depth|       res_bdy_len|              Sjit|              Djit|               Stime|               Ltime|           Sintpkt|          Dintpkt|              tcprtt|              synack|             ackdat|     is_sm_ips_ports|       ct_state_ttl|   ct_flw_http_mthd|       is_ftp_login|          ct_ftp_cmd|        ct_srv_src|        ct_srv_dst|       ct_dst_ltm|      ct_src_ ltm| ct_src_dport_ltm| ct_dst_sport_ltm|    ct_dst_src_ltm|              Label|attack_cat_|\n",
            "+-------+-----------+------------------+-----------+------------------+-------+-------+------------------+-----------------+------------------+-----------------+------------------+-----------------+------------------+-------+--------------------+-----------------+-----------------+------------------+------------------+------------------+--------------------+--------------------+------------------+------------------+-------------------+------------------+------------------+------------------+--------------------+--------------------+------------------+-----------------+--------------------+--------------------+-------------------+--------------------+-------------------+-------------------+-------------------+--------------------+------------------+------------------+-----------------+-----------------+-----------------+-----------------+------------------+-------------------+-----------+\n",
            "|  count|    2539739|           2539739|    2539739|           2539739|2539739|2539739|           2539739|          2539739|           2539739|          2539739|           2539739|          2539739|           2539739|2539739|             2539739|          2539739|          2539739|           2539739|           2539739|           2539739|             2539739|             2539739|           2539739|           2539739|            2539739|           2539739|           2539739|           2539739|             2539739|             2539739|           2539739|          2539739|             2539739|             2539739|            2539739|             2539739|            2539739|            2539739|            2539739|             2539739|           2539739|           2539739|          2539739|          2539739|          2539739|          2539739|           2539739|            2539739|    2539739|\n",
            "|   mean|       null| 30536.93108583205|       null|11235.096788685767|   null|   null|0.6588634003800393|4340.072263330996| 36432.01132478574|62.78149802007214|   30.770440978384|5.164547223159545|16.331423819534212|   null| 3.694927939363408E7|2451158.440857539| 33.2925678583508|42.731821655689814|150.10695075360107|149.76404347060858|1.2618542900429437E9|1.2619194806546414E9|124.25270588828222|276.70543193611627|0.08326328020320198| 4242.632264575218|1589.1543650105623| 730.1640026779703|1.4232606949103932E9|1.4232606956744623E9| 193.0465504924596|78.83432357570544|0.006181224255109452|0.003287993858563316|0.00289323039543641|0.001651744529654425|0.26118471228736495|0.11009123378425893|0.01735335796316078|0.020560380417042855| 9.207911915358231| 8.989882818667587|6.439727074317479|6.901640286659378|4.642571933572702|3.593031803661715|  6.84655746121944| 0.1265023689442104|       null|\n",
            "| stddev|       null|20441.216792342224|       null| 18438.20083577165|   null|   null|13.925767633289283|56409.39812286232|161105.30400824756|74.62669956848524|42.851922189518724|22.51836838779722|56.597890353205116|   null|1.1860413786386509E8|4225032.897503491|76.28775585678378|121.50842004704197|125.47913122211004|125.54062192608511| 1.422045057823864E9| 1.422157469789883E9|151.92108772283464| 335.6231650135929|0.35002455674771116|47503.383153168135|16911.377637309888|3438.7574708801694|  1134456.4636742047|  1134456.2648463438|2778.5830034350847|1433.278071549331|  0.0461613828526482|0.025937245439328835|0.02394810919858883|0.040608089328964335| 0.6831310323762818| 0.5564518805021055|0.13346510417617913|  0.1843730431164465|10.837080948770966|10.822813466163238|8.162329925209063|8.205340175616495|8.478001123292248|6.174757636883334|11.258797786324628|0.33241474561750184|       null|\n",
            "|    min|10.40.170.2|                 0|10.40.170.2|                 0|    3pc|    ACC|               0.0|                0|                 0|                0|                 0|                0|                 0|      -|                 0.0|              0.0|                0|                 0|                 0|                 0|                   0|                   0|                 0|                 0|                  0|                 0|               0.0|               0.0|          1421927377|          1421927414|               0.0|              0.0|                 0.0|                 0.0|                0.0|                   0|                  0|                  0|                  0|                   0|                 1|                 1|                1|                1|                1|                1|                 1|                  0|   Analysis|\n",
            "|    max| 59.166.0.9|             65535| 59.166.0.9|             65535|   zero|     no|         8786.6377|         14355774|          14657531|              255|               254|             5319|              5507|    ssl|         5.9880003E9|       1.287619E8|            10646|             11018|               255|               255|          4294958913|          4294953724|              1504|              1500|                172|           6558056|         1483830.9|         781221.13|          1424262068|          1424262069|         84371.492|         59485.32|           10.037506|           4.5252719|          5.5122342|                   1|                  6|                 36|                  4|                   8|                67|                67|               67|               67|               67|               60|                67|                  1|      Worms|\n",
            "+-------+-----------+------------------+-----------+------------------+-------+-------+------------------+-----------------+------------------+-----------------+------------------+-----------------+------------------+-------+--------------------+-----------------+-----------------+------------------+------------------+------------------+--------------------+--------------------+------------------+------------------+-------------------+------------------+------------------+------------------+--------------------+--------------------+------------------+-----------------+--------------------+--------------------+-------------------+--------------------+-------------------+-------------------+-------------------+--------------------+------------------+------------------+-----------------+-----------------+-----------------+-----------------+------------------+-------------------+-----------+\n",
            "\n"
          ]
        }
      ]
    },
    {
      "cell_type": "markdown",
      "metadata": {
        "id": "WhOiOK1kbx4f"
      },
      "source": [
        "## Checking NUll Values"
      ]
    },
    {
      "cell_type": "code",
      "source": [
        "from pyspark.sql.functions import col,isnan, when, count"
      ],
      "metadata": {
        "id": "oO8dtKy0aKGJ"
      },
      "execution_count": null,
      "outputs": []
    },
    {
      "cell_type": "code",
      "source": [
        "df.select([count(when(isnan(c) | col(c).isNull(), c)).alias(c) for c in df.columns]).show()"
      ],
      "metadata": {
        "colab": {
          "base_uri": "https://localhost:8080/"
        },
        "id": "bHGNbV_VZy00",
        "outputId": "7219cfb1-a63b-47ce-bf9d-1e7e6c4bdb91"
      },
      "execution_count": null,
      "outputs": [
        {
          "output_type": "stream",
          "name": "stdout",
          "text": [
            "+-----+-----+-----+------+-----+-----+---+------+------+----+----+-----+-----+-------+-----+-----+-----+-----+----+----+-----+-----+-------+-------+-----------+-----------+----+----+-----+-----+-------+-------+------+------+------+---------------+------------+----------------+------------+----------+----------+----------+----------+-----------+----------------+----------------+--------------+-----+-----------+\n",
            "|srcip|sport|dstip|dsport|proto|state|dur|sbytes|dbytes|sttl|dttl|sloss|dloss|service|Sload|Dload|Spkts|Dpkts|swin|dwin|stcpb|dtcpb|smeansz|dmeansz|trans_depth|res_bdy_len|Sjit|Djit|Stime|Ltime|Sintpkt|Dintpkt|tcprtt|synack|ackdat|is_sm_ips_ports|ct_state_ttl|ct_flw_http_mthd|is_ftp_login|ct_ftp_cmd|ct_srv_src|ct_srv_dst|ct_dst_ltm|ct_src_ ltm|ct_src_dport_ltm|ct_dst_sport_ltm|ct_dst_src_ltm|Label|attack_cat_|\n",
            "+-----+-----+-----+------+-----+-----+---+------+------+----+----+-----+-----+-------+-----+-----+-----+-----+----+----+-----+-----+-------+-------+-----------+-----------+----+----+-----+-----+-------+-------+------+------+------+---------------+------------+----------------+------------+----------+----------+----------+----------+-----------+----------------+----------------+--------------+-----+-----------+\n",
            "|    0|    0|    0|     0|    0|    0|  0|     0|     0|   0|   0|    0|    0|      0|    0|    0|    0|    0|   0|   0|    0|    0|      0|      0|          0|          0|   0|   0|    0|    0|      0|      0|     0|     0|     0|              0|           0|               0|           0|         0|         0|         0|         0|          0|               0|               0|             0|    0|          0|\n",
            "+-----+-----+-----+------+-----+-----+---+------+------+----+----+-----+-----+-------+-----+-----+-----+-----+----+----+-----+-----+-------+-------+-----------+-----------+----+----+-----+-----+-------+-------+------+------+------+---------------+------------+----------------+------------+----------+----------+----------+----------+-----------+----------------+----------------+--------------+-----+-----------+\n",
            "\n"
          ]
        }
      ]
    },
    {
      "cell_type": "markdown",
      "source": [
        "## Exploratory Data Analysis"
      ],
      "metadata": {
        "id": "XGfTJDE3aLZ2"
      }
    },
    {
      "cell_type": "markdown",
      "source": [
        "## ATTACK vs Normal"
      ],
      "metadata": {
        "id": "3EY8RPCwb-ST"
      }
    },
    {
      "cell_type": "code",
      "source": [
        "# Register this dataframe as a Table\n",
        "df.registerTempTable(\"data_unsw\")"
      ],
      "metadata": {
        "id": "_aFMJI3SaeB1"
      },
      "execution_count": null,
      "outputs": []
    },
    {
      "cell_type": "markdown",
      "source": [
        "#replace 0 to normal and 1 to anomly, create a new column using the if condtion "
      ],
      "metadata": {
        "id": "aRbCawJ6do4w"
      }
    },
    {
      "cell_type": "code",
      "execution_count": null,
      "metadata": {
        "id": "U8btbeaPPkcG"
      },
      "outputs": [],
      "source": [
        "data=hive_context.sql(\"select *, if(Label=0,'Normal','Anomly')as Target from data_unsw;\")"
      ]
    },
    {
      "cell_type": "code",
      "source": [
        "data.registerTempTable(\"data_unsw1\")"
      ],
      "metadata": {
        "id": "tS7Q-Bmzd89W"
      },
      "execution_count": null,
      "outputs": []
    },
    {
      "cell_type": "code",
      "execution_count": null,
      "metadata": {
        "id": "aT1vRUvNPkcG"
      },
      "outputs": [],
      "source": [
        "b_atck=hive_context.sql(\"select Target,count(*) as count from data_unsw1 group by Target;\")"
      ]
    },
    {
      "cell_type": "code",
      "execution_count": null,
      "metadata": {
        "id": "NwEtR7G-PkcH",
        "outputId": "c6225aef-5fbe-4a63-dd90-62e1e3dbd3bb",
        "colab": {
          "base_uri": "https://localhost:8080/"
        }
      },
      "outputs": [
        {
          "output_type": "stream",
          "name": "stdout",
          "text": [
            "+------+-------+\n",
            "|Target|  count|\n",
            "+------+-------+\n",
            "|Anomly| 321283|\n",
            "|Normal|2218456|\n",
            "+------+-------+\n",
            "\n"
          ]
        }
      ],
      "source": [
        "b_atck.show()"
      ]
    },
    {
      "cell_type": "code",
      "source": [
        "b_atck = b_atck.toPandas()"
      ],
      "metadata": {
        "id": "XotLFe1pcJhF"
      },
      "execution_count": null,
      "outputs": []
    },
    {
      "cell_type": "code",
      "source": [
        "fig = plt.figure()\n",
        "fig.set_figheight(10)\n",
        "fig.set_figwidth(10)\n",
        "\n",
        "ax = fig.add_subplot(111)\n",
        "\n",
        "ax.barh(b_atck['Target'], b_atck['count'], align='center', alpha=0.5)\n",
        "\n",
        "#annotate bar plot with values\n",
        "for i in ax.patches:\n",
        "    ax.text(i.get_width()+.09, i.get_y()+.3, str(round((i.get_width()), 1)), fontsize=8)\n",
        "\n",
        "plt.ylabel('Attacks')\n",
        "plt.title('Attack Vs Normal')\n",
        "plt.show();"
      ],
      "metadata": {
        "colab": {
          "base_uri": "https://localhost:8080/",
          "height": 621
        },
        "outputId": "a88976bf-c749-4e03-a128-45b8de7aa894",
        "id": "25Kow7G7cJhF"
      },
      "execution_count": null,
      "outputs": [
        {
          "output_type": "display_data",
          "data": {
            "image/png": "[encoded data removed]",
            "text/plain": [
              "<Figure size 720x720 with 1 Axes>"
            ]
          },
          "metadata": {
            "needs_background": "light"
          }
        }
      ]
    },
    {
      "cell_type": "markdown",
      "source": [
        "## Clasification of Attacks"
      ],
      "metadata": {
        "id": "BmC9-d1bcRu8"
      }
    },
    {
      "cell_type": "code",
      "source": [
        "n_atck =hive_context.sql(\" select attack_cat_, count(*) as count from data_unsw1 group by attack_cat_ ;\")\n",
        "n_atck.show()"
      ],
      "metadata": {
        "colab": {
          "base_uri": "https://localhost:8080/"
        },
        "id": "O7qORBkfaOEN",
        "outputId": "c4f1620e-0d1a-43b4-d8d5-e2f22602c9ad"
      },
      "execution_count": null,
      "outputs": [
        {
          "output_type": "stream",
          "name": "stdout",
          "text": [
            "+---------------+-------+\n",
            "|    attack_cat_|  count|\n",
            "+---------------+-------+\n",
            "|          Worms|    174|\n",
            "|       Analysis|   2677|\n",
            "|     Shellcode |   1288|\n",
            "|            DoS|  16353|\n",
            "|Reconnaissance |  12228|\n",
            "|       Backdoor|   1795|\n",
            "|       Fuzzers |  19195|\n",
            "|       Exploits|  44525|\n",
            "|         Normal|2218456|\n",
            "|        Generic| 215481|\n",
            "|      Shellcode|    223|\n",
            "|      Backdoors|    534|\n",
            "|        Fuzzers|   5051|\n",
            "| Reconnaissance|   1759|\n",
            "+---------------+-------+\n",
            "\n"
          ]
        }
      ]
    },
    {
      "cell_type": "code",
      "source": [
        "n_atck = n_atck.toPandas()"
      ],
      "metadata": {
        "id": "SbMKEn2ZalP4"
      },
      "execution_count": null,
      "outputs": []
    },
    {
      "cell_type": "code",
      "source": [
        "fig = plt.figure()\n",
        "fig.set_figheight(10)\n",
        "fig.set_figwidth(10)\n",
        "\n",
        "ax = fig.add_subplot(111)\n",
        "\n",
        "ax.barh(n_atck['attack_cat_'], n_atck['count'], align='center', alpha=0.5)\n",
        "\n",
        "#annotate bar plot with values\n",
        "for i in ax.patches:\n",
        "    ax.text(i.get_width()+.09, i.get_y()+.3, str(round((i.get_width()), 1)), fontsize=8)\n",
        "\n",
        "plt.ylabel('Attacks')\n",
        "plt.title('Number of Attacks in the dataset')\n",
        "plt.show();"
      ],
      "metadata": {
        "colab": {
          "base_uri": "https://localhost:8080/",
          "height": 621
        },
        "id": "WdQy0V9Bbe8T",
        "outputId": "baa59df7-bfa6-49e9-825b-e0c33c73acab"
      },
      "execution_count": null,
      "outputs": [
        {
          "output_type": "display_data",
          "data": {
            "image/png": "[encoded data removed]",
            "text/plain": [
              "<Figure size 720x720 with 1 Axes>"
            ]
          },
          "metadata": {
            "needs_background": "light"
          }
        }
      ]
    },
    {
      "cell_type": "markdown",
      "source": [
        "# convert unix epoch second to date using date function \n"
      ],
      "metadata": {
        "id": "Y3y7JqK4cbyr"
      }
    },
    {
      "cell_type": "code",
      "source": [
        "data=hive_context.sql(\"SELECT *,(to_date(from_unixtime(Stime))) as date from data_unsw1;\")\n",
        "data.select(\"date\").show(2)"
      ],
      "metadata": {
        "colab": {
          "base_uri": "https://localhost:8080/"
        },
        "id": "P6jjf8g_cbmw",
        "outputId": "5cbdf473-b14e-47c8-c92d-7fece0c43985"
      },
      "execution_count": null,
      "outputs": [
        {
          "output_type": "stream",
          "name": "stdout",
          "text": [
            "+----------+\n",
            "|      date|\n",
            "+----------+\n",
            "|2015-01-22|\n",
            "|2015-01-22|\n",
            "+----------+\n",
            "only showing top 2 rows\n",
            "\n"
          ]
        }
      ]
    },
    {
      "cell_type": "code",
      "source": [
        "data.registerTempTable(\"data_unsw2\")\n",
        "atck_cnt_22 = hive_context.sql(\"select attack_cat_, count(*) as count from data_unsw2 where date='2015-01-22' group by attack_cat_;\")"
      ],
      "metadata": {
        "id": "pYv2DozOct0i"
      },
      "execution_count": null,
      "outputs": []
    },
    {
      "cell_type": "markdown",
      "source": [
        "## Number of count attack_cat dated 2015-01-22 (apply condition Where=2015-01-22)"
      ],
      "metadata": {
        "id": "7A_KSlGNevc_"
      }
    },
    {
      "cell_type": "code",
      "source": [
        "atck_cnt_22.show()"
      ],
      "metadata": {
        "colab": {
          "base_uri": "https://localhost:8080/"
        },
        "id": "TdNFJw7jdab5",
        "outputId": "315be9fb-18aa-46fd-f2ba-69e3a764354f"
      },
      "execution_count": null,
      "outputs": [
        {
          "output_type": "stream",
          "name": "stdout",
          "text": [
            "+--------------+-------+\n",
            "|   attack_cat_|  count|\n",
            "+--------------+-------+\n",
            "|        Normal|1030581|\n",
            "|         Worms|     24|\n",
            "|     Shellcode|    223|\n",
            "|     Backdoors|    534|\n",
            "|       Fuzzers|   5051|\n",
            "|      Analysis|    526|\n",
            "|           DoS|   1167|\n",
            "|Reconnaissance|   1759|\n",
            "|      Exploits|   5409|\n",
            "|       Generic|   7522|\n",
            "+--------------+-------+\n",
            "\n"
          ]
        }
      ]
    },
    {
      "cell_type": "code",
      "source": [
        "atck_cnt_22 = atck_cnt_22.toPandas()"
      ],
      "metadata": {
        "id": "8dTliPTSezqB"
      },
      "execution_count": null,
      "outputs": []
    },
    {
      "cell_type": "code",
      "source": [
        "fig = plt.figure()\n",
        "fig.set_figheight(10)\n",
        "fig.set_figwidth(10)\n",
        "\n",
        "ax = fig.add_subplot(111)\n",
        "\n",
        "ax.barh(atck_cnt_22['attack_cat_'], atck_cnt_22['count'], align='center', alpha=0.5)\n",
        "\n",
        "#annotate bar plot with values\n",
        "for i in ax.patches:\n",
        "    ax.text(i.get_width()+.09, i.get_y()+.3, str(round((i.get_width()), 1)), fontsize=8)\n",
        "\n",
        "plt.ylabel('Attacks')\n",
        "plt.title('Number of Attacks in the dataset')\n",
        "plt.show();"
      ],
      "metadata": {
        "colab": {
          "base_uri": "https://localhost:8080/",
          "height": 621
        },
        "id": "GFBfkHZIemZf",
        "outputId": "9ecfdd68-caf8-4261-c599-d64cf693309e"
      },
      "execution_count": null,
      "outputs": [
        {
          "output_type": "display_data",
          "data": {
            "image/png": "[encoded data removed]",
            "text/plain": [
              "<Figure size 720x720 with 1 Axes>"
            ]
          },
          "metadata": {
            "needs_background": "light"
          }
        }
      ]
    },
    {
      "cell_type": "markdown",
      "source": [
        "## State number of count "
      ],
      "metadata": {
        "id": "zHL7KvdygAZs"
      }
    },
    {
      "cell_type": "code",
      "source": [
        "state_ = hive_context.sql(\"select state, count(*) as count from data_unsw1 group by state;\")"
      ],
      "metadata": {
        "id": "a8IhMfJJf_Ox"
      },
      "execution_count": null,
      "outputs": []
    },
    {
      "cell_type": "code",
      "source": [
        "state_n= state_.select(\"state\").rdd.flatMap(lambda x: x).collect()"
      ],
      "metadata": {
        "id": "SQnkCLBGgEeZ"
      },
      "execution_count": null,
      "outputs": []
    },
    {
      "cell_type": "code",
      "source": [
        "state_c= state_.select(\"count\").rdd.flatMap(lambda x: x).collect()"
      ],
      "metadata": {
        "id": "NGNb7GLAgF8E"
      },
      "execution_count": null,
      "outputs": []
    },
    {
      "cell_type": "code",
      "source": [
        "# remove none and its value from the list (index number 3)\n",
        "state_n.pop(3)\n",
        "state_c.pop(3)"
      ],
      "metadata": {
        "colab": {
          "base_uri": "https://localhost:8080/"
        },
        "id": "0WyBbYjagHe9",
        "outputId": "9ba945d7-5385-4849-f04e-3a47ad2b1742"
      },
      "execution_count": null,
      "outputs": [
        {
          "output_type": "execute_result",
          "data": {
            "text/plain": [
              "8"
            ]
          },
          "metadata": {},
          "execution_count": 87
        }
      ]
    },
    {
      "cell_type": "code",
      "source": [
        "import matplotlib.pyplot as plt\n",
        "import numpy as np\n",
        "c3 = tuple(state_c)\n",
        "#Creating a figure with some fig size\n",
        "fig, ax = plt.subplots(figsize = (18,8))\n",
        "ax.bar(state_n,c3)\n",
        "for index,data in enumerate(c3):\n",
        "    plt.text(x=index , y =data+1 , s=f\"{data}\" , fontdict=dict(fontsize=18))\n",
        "plt.xticks(rotation=45,size=15)\n",
        "plt.tight_layout()\n",
        "plt.show()"
      ],
      "metadata": {
        "colab": {
          "base_uri": "https://localhost:8080/",
          "height": 585
        },
        "id": "45HzXbT0gJUk",
        "outputId": "a7158b38-db3e-4c63-963d-353112df4556"
      },
      "execution_count": null,
      "outputs": [
        {
          "output_type": "display_data",
          "data": {
            "image/png": "[encoded data removed]",
            "text/plain": [
              "<Figure size 1296x576 with 1 Axes>"
            ]
          },
          "metadata": {
            "needs_background": "light"
          }
        }
      ]
    },
    {
      "cell_type": "markdown",
      "source": [
        "## dmeansz\n",
        "Numerical feature. Mean of the flow packet size transmitted by the dst\n",
        "\n",
        "* Feature range between 0 to 1500\n",
        "* For non-attck data most values are between 0-200. And few of them are distributed from 400 to 800\n"
      ],
      "metadata": {
        "id": "Eme3EJ-Egja8"
      }
    },
    {
      "cell_type": "code",
      "source": [
        "dmeansz_normal = hive_context.sql(\"select dmeansz from data_unsw1  where Label == 0\")\n",
        "dmeansz_anomaly = hive_context.sql(\"select dmeansz from data_unsw1  where Label == 1\")"
      ],
      "metadata": {
        "id": "iHz0tF0RgnkH"
      },
      "execution_count": null,
      "outputs": []
    },
    {
      "cell_type": "code",
      "source": [
        "dmeansz_normal = dmeansz_normal.toPandas()\n",
        "dmeansz_anomaly = dmeansz_anomaly.toPandas()"
      ],
      "metadata": {
        "id": "nyT7xuc6iCbm"
      },
      "execution_count": null,
      "outputs": []
    },
    {
      "cell_type": "code",
      "source": [
        "sns.displot(dmeansz_normal['dmeansz'], label='normal')"
      ],
      "metadata": {
        "colab": {
          "base_uri": "https://localhost:8080/",
          "height": 386
        },
        "id": "qhBW2Mtjjj8k",
        "outputId": "64e0be3e-f187-4569-9d25-dbcfabddcfd0"
      },
      "execution_count": null,
      "outputs": [
        {
          "output_type": "execute_result",
          "data": {
            "text/plain": [
              "<seaborn.axisgrid.FacetGrid at 0x7f364aff0f50>"
            ]
          },
          "metadata": {},
          "execution_count": 113
        },
        {
          "output_type": "display_data",
          "data": {
            "image/png": "[encoded data removed]",
            "text/plain": [
              "<Figure size 360x360 with 1 Axes>"
            ]
          },
          "metadata": {}
        }
      ]
    },
    {
      "cell_type": "markdown",
      "source": [
        "* Most of the values in anomaly from 0 to 100."
      ],
      "metadata": {
        "id": "l_XHAf2ekl0v"
      }
    },
    {
      "cell_type": "code",
      "source": [
        "sns.displot(dmeansz_anomaly['dmeansz'], label='anomaly')"
      ],
      "metadata": {
        "colab": {
          "base_uri": "https://localhost:8080/",
          "height": 386
        },
        "id": "H26z_kjUkcBE",
        "outputId": "6c0f7ac1-5a30-4d8f-a34d-be6532442414"
      },
      "execution_count": null,
      "outputs": [
        {
          "output_type": "execute_result",
          "data": {
            "text/plain": [
              "<seaborn.axisgrid.FacetGrid at 0x7f364afd4fd0>"
            ]
          },
          "metadata": {},
          "execution_count": 114
        },
        {
          "output_type": "display_data",
          "data": {
            "image/png": "[encoded data removed]",
            "text/plain": [
              "<Figure size 360x360 with 1 Axes>"
            ]
          },
          "metadata": {}
        }
      ]
    },
    {
      "cell_type": "markdown",
      "source": [
        "## sttl\n",
        "Numerical feature with only 13 unique value.\n",
        "\n",
        "* normal cat data has most of its values 31 and few 60.\n",
        "* anomaly cat has almost all of its value 254."
      ],
      "metadata": {
        "id": "5nOwAukDjIR7"
      }
    },
    {
      "cell_type": "code",
      "source": [
        "sttl = hive_context.sql(\"select sttl,Label from data_unsw1\")"
      ],
      "metadata": {
        "id": "6xUeUsdMjOzN"
      },
      "execution_count": null,
      "outputs": []
    },
    {
      "cell_type": "code",
      "source": [
        "sttl = sttl.toPandas()"
      ],
      "metadata": {
        "id": "j2x95QbUjxo_"
      },
      "execution_count": null,
      "outputs": []
    },
    {
      "cell_type": "code",
      "source": [
        "fig, ax = plt.subplots(figsize=(8,4))\n",
        "sns.set_style('whitegrid')\n",
        "# countplot of the given column\n",
        "ax = sns.countplot(x='sttl', hue='Label', data=sttl)\n",
        "ax.legend(loc=\"upper right\", labels=('normal', 'attack'))\n",
        "ax.set_title(\"UNSW data\")\n",
        "plt.xticks(rotation=45)\n",
        "plt.show()"
      ],
      "metadata": {
        "colab": {
          "base_uri": "https://localhost:8080/",
          "height": 306
        },
        "id": "bPYKvUbjjzOW",
        "outputId": "45e63018-586e-479b-9207-586f25b30e79"
      },
      "execution_count": null,
      "outputs": [
        {
          "output_type": "display_data",
          "data": {
            "image/png": "[encoded data removed]",
            "text/plain": [
              "<Figure size 576x288 with 1 Axes>"
            ]
          },
          "metadata": {}
        }
      ]
    },
    {
      "cell_type": "markdown",
      "source": [
        "## Ftp Login\n",
        "Numerical feature with 2 unique value.\n",
        "\n",
        "* Most of Attack that occur doesnt required FTP login\n",
        "* Only 1909 Attack were done in which FTP login was given\n"
      ],
      "metadata": {
        "id": "gDf8mV0UlBZ_"
      }
    },
    {
      "cell_type": "code",
      "source": [
        "ftp = hive_context.sql(\"select is_ftp_login,Label from data_unsw1 where is_ftp_login != 2 and is_ftp_login != 4\")"
      ],
      "metadata": {
        "id": "GFM1dmLGlOME"
      },
      "execution_count": null,
      "outputs": []
    },
    {
      "cell_type": "code",
      "source": [
        "ftp = ftp.toPandas()"
      ],
      "metadata": {
        "id": "IwAm1rihlI5s"
      },
      "execution_count": null,
      "outputs": []
    },
    {
      "cell_type": "code",
      "source": [
        "fig, ax = plt.subplots(figsize=(8,4))\n",
        "sns.set_style('whitegrid')\n",
        "# countplot of the given column\n",
        "ax = sns.countplot(x='is_ftp_login', hue='Label', data=ftp)\n",
        "ax.legend(loc=\"upper right\", labels=('normal', 'attack'))\n",
        "ax.set_title(\"UNSW data\")\n",
        "for rect in ax.patches:\n",
        "    ax.text (rect.get_x()  + rect.get_width() /5,rect.get_height(),\"%.1f\"% rect.get_height(), weight='bold' )\n",
        "plt.xticks(rotation=45)\n",
        "plt.show()"
      ],
      "metadata": {
        "colab": {
          "base_uri": "https://localhost:8080/",
          "height": 298
        },
        "outputId": "036c8d7c-1991-4a59-fdcd-009372bb861a",
        "id": "Ctc5WqPJlI5s"
      },
      "execution_count": null,
      "outputs": [
        {
          "output_type": "display_data",
          "data": {
            "image/png": "[encoded data removed]",
            "text/plain": [
              "<Figure size 576x288 with 1 Axes>"
            ]
          },
          "metadata": {}
        }
      ]
    },
    {
      "cell_type": "markdown",
      "source": [
        "## Correlation"
      ],
      "metadata": {
        "id": "-QahBZhXm-o3"
      }
    },
    {
      "cell_type": "code",
      "execution_count": null,
      "metadata": {
        "id": "LTNgVVxyPkcM"
      },
      "outputs": [],
      "source": [
        "#drop all null values from the dataset\n",
        "data_ = df.na.drop()"
      ]
    },
    {
      "cell_type": "code",
      "execution_count": null,
      "metadata": {
        "id": "KJBOMh04PkcM"
      },
      "outputs": [],
      "source": [
        "#convert data to pandas dataframe\n",
        "data_pd = data_.toPandas()"
      ]
    },
    {
      "cell_type": "code",
      "execution_count": null,
      "metadata": {
        "id": "uhmG0VwTPkcN",
        "outputId": "944ac302-3cec-484e-ee17-3a7e9557cc57"
      },
      "outputs": [
        {
          "data": {
            "text/plain": [
              "<matplotlib.axes._subplots.AxesSubplot at 0x22a8bc98c48>"
            ]
          },
          "execution_count": 24,
          "metadata": {},
          "output_type": "execute_result"
        },
        {
          "data": {
            "image/png": "[encoded data removed]",
            "text/plain": [
              "<Figure size 1296x576 with 2 Axes>"
            ]
          },
          "metadata": {
            "needs_background": "light"
          },
          "output_type": "display_data"
        }
      ],
      "source": [
        "import seaborn as sns\n",
        "import matplotlib.pyplot as plt\n",
        "fig, ax = plt.subplots(figsize = (18,8))\n",
        "sns.heatmap(data_pd.corr())"
      ]
    },
    {
      "cell_type": "markdown",
      "source": [
        "# hypothesis testing\n",
        "\n",
        "* null hypothesis - there is no significance distance between in the average of record total duration of normal and anomly. \n",
        "\n",
        "* alternate hypothesis - there is significance distance between in the average of record total duration of normal and anomly. "
      ],
      "metadata": {
        "id": "WIB3gy0HnqN2"
      }
    },
    {
      "cell_type": "code",
      "execution_count": null,
      "metadata": {
        "id": "3WETTShgPkcN"
      },
      "outputs": [],
      "source": [
        "from scipy.stats import ttest_ind"
      ]
    },
    {
      "cell_type": "code",
      "execution_count": null,
      "metadata": {
        "id": "CJeYpBmzPkcO"
      },
      "outputs": [],
      "source": [
        "normal = df.filter(df.Label==0)\n",
        "anomly = df.filter(df.Label==1)"
      ]
    },
    {
      "cell_type": "code",
      "execution_count": null,
      "metadata": {
        "id": "RuNQ7AArPkcO"
      },
      "outputs": [],
      "source": [
        "dur_mean_normal=normal.agg({'dur': 'mean'})\n",
        "dur_mean_anomly=anomly.agg({'dur': 'mean'})"
      ]
    },
    {
      "cell_type": "code",
      "execution_count": null,
      "metadata": {
        "id": "dG9DPLw3PkcO",
        "outputId": "e44d55f3-693b-4e46-c74d-cd68a7e76047",
        "colab": {
          "base_uri": "https://localhost:8080/"
        }
      },
      "outputs": [
        {
          "output_type": "stream",
          "name": "stdout",
          "text": [
            "+------------------+\n",
            "|          avg(dur)|\n",
            "+------------------+\n",
            "|0.6484919343051566|\n",
            "+------------------+\n",
            "\n"
          ]
        }
      ],
      "source": [
        "dur_mean_normal.show()"
      ]
    },
    {
      "cell_type": "code",
      "execution_count": null,
      "metadata": {
        "id": "-wDyILKBPkcO",
        "outputId": "be9d13c0-efe7-417e-cd91-d64fd04bdca0",
        "colab": {
          "base_uri": "https://localhost:8080/"
        }
      },
      "outputs": [
        {
          "output_type": "stream",
          "name": "stdout",
          "text": [
            "+------------------+\n",
            "|          avg(dur)|\n",
            "+------------------+\n",
            "|0.7304782730691726|\n",
            "+------------------+\n",
            "\n"
          ]
        }
      ],
      "source": [
        "dur_mean_anomly.show()"
      ]
    },
    {
      "cell_type": "code",
      "execution_count": null,
      "metadata": {
        "id": "5X6ykGLjPkcO"
      },
      "outputs": [],
      "source": [
        "dur_nor = normal.select(\"dur\").rdd.flatMap(lambda x: x).collect()"
      ]
    },
    {
      "cell_type": "code",
      "execution_count": null,
      "metadata": {
        "id": "6Y-GzHmXPkcP"
      },
      "outputs": [],
      "source": [
        "dur_anomly = anomly.select(\"dur\").rdd.flatMap(lambda x: x).collect()"
      ]
    },
    {
      "cell_type": "markdown",
      "source": [
        "# p value "
      ],
      "metadata": {
        "id": "pZA4woienwn-"
      }
    },
    {
      "cell_type": "code",
      "execution_count": null,
      "metadata": {
        "id": "dd2gQF2JPkcP",
        "outputId": "05501cc6-0eb4-4fd8-8c9b-8c1c7a5b36d2",
        "colab": {
          "base_uri": "https://localhost:8080/"
        }
      },
      "outputs": [
        {
          "output_type": "execute_result",
          "data": {
            "text/plain": [
              "Ttest_indResult(statistic=-3.118874026280416, pvalue=0.0018154559048992132)"
            ]
          },
          "metadata": {},
          "execution_count": 160
        }
      ],
      "source": [
        "ttest_ind(dur_nor,dur_anomly,equal_var=True)"
      ]
    },
    {
      "cell_type": "markdown",
      "source": [
        "# distribution plot "
      ],
      "metadata": {
        "id": "waPffXBCnx0o"
      }
    },
    {
      "cell_type": "code",
      "execution_count": null,
      "metadata": {
        "id": "vqeaYjlrPkcP"
      },
      "outputs": [],
      "source": [
        "dur_ = df.select('dur').na.drop()"
      ]
    },
    {
      "cell_type": "code",
      "execution_count": null,
      "metadata": {
        "id": "oWpzMdBHPkcP"
      },
      "outputs": [],
      "source": [
        "rec_tot_dur = dur_.select(\"dur\").rdd.flatMap(lambda x: x).collect()"
      ]
    },
    {
      "cell_type": "code",
      "execution_count": null,
      "metadata": {
        "id": "QMvqTcDrPkcQ",
        "outputId": "9a474d6c-1cae-4ea4-d052-6fd8d63b82df",
        "colab": {
          "base_uri": "https://localhost:8080/",
          "height": 276
        }
      },
      "outputs": [
        {
          "output_type": "display_data",
          "data": {
            "image/png": "[encoded data removed]",
            "text/plain": [
              "<Figure size 432x288 with 1 Axes>"
            ]
          },
          "metadata": {}
        }
      ],
      "source": [
        "# example of plotting a histogram of a random sample\n",
        "from matplotlib import pyplot\n",
        "from numpy.random import normal\n",
        "# plot a histogram of the sample\n",
        "pyplot.hist(rec_tot_dur)\n",
        "pyplot.show()"
      ]
    },
    {
      "cell_type": "markdown",
      "source": [
        "## Binary Classificaition\n",
        "* In this build the binary classifier over the dataset so for that we used Label column as a target variable, 0 for normal and 1 for attack records"
      ],
      "metadata": {
        "id": "k_73n7LoovW_"
      }
    },
    {
      "cell_type": "markdown",
      "source": [
        "## Converting String COlumns into StringIndexer"
      ],
      "metadata": {
        "id": "L44bV_rVryF2"
      }
    },
    {
      "cell_type": "code",
      "source": [
        "from pyspark.ml import Pipeline"
      ],
      "metadata": {
        "id": "WKq40tplwiEo"
      },
      "execution_count": null,
      "outputs": []
    },
    {
      "cell_type": "code",
      "source": [
        "dstip_indexer = StringIndexer(inputCol=\"dstip\", outputCol=\"dstipIndex\")\n",
        "proto_indexer = StringIndexer(inputCol=\"proto\", outputCol=\"protoIndex\")\n",
        "state_indexer = StringIndexer(inputCol=\"state\", outputCol=\"stateIndex\")\n",
        "service_indexer = StringIndexer(inputCol=\"service\", outputCol=\"serviceIndex\")\n",
        "attack_cats_indexer = StringIndexer(inputCol=\"attack_cats\", outputCol=\"attack_catsIndex\")\n",
        "srcip_indexer = StringIndexer(inputCol=\"srcip\", outputCol=\"srcipIndex\")"
      ],
      "metadata": {
        "id": "loCcJ0ZRvW1C"
      },
      "execution_count": null,
      "outputs": []
    },
    {
      "cell_type": "code",
      "source": [
        "pipe = Pipeline(stages = [dstip_indexer,proto_indexer,state_indexer,service_indexer,attack_cats_indexer,srcip_indexer])"
      ],
      "metadata": {
        "id": "lSC-JQMVwsJZ"
      },
      "execution_count": null,
      "outputs": []
    },
    {
      "cell_type": "code",
      "source": [
        "datav = pipe.fit(df).transform(df)\n",
        "datav.show()"
      ],
      "metadata": {
        "colab": {
          "base_uri": "https://localhost:8080/"
        },
        "id": "bznnln-Mr_av",
        "outputId": "d0a95c1d-23bc-4436-8f4a-acba9ad0e502"
      },
      "execution_count": null,
      "outputs": [
        {
          "output_type": "stream",
          "name": "stdout",
          "text": [
            "+----------+-----+-------------+------+-----+-----+------------+------+------+----+----+-----+-----+--------+---------+---------+-----+-----+----+----+----------+----------+-------+-------+-----------+-----------+----------+---------+----------+----------+------------+------------+------------+------------+------------+---------------+------------+----------------+------------+----------+----------+----------+----------+-----------+----------------+----------------+--------------+-----+-----------+----------+----------+----------+------------+----------------+----------+\n",
            "|     srcip|sport|        dstip|dsport|proto|state|         dur|sbytes|dbytes|sttl|dttl|sloss|dloss| service|    Sload|    Dload|Spkts|Dpkts|swin|dwin|     stcpb|     dtcpb|smeansz|dmeansz|trans_depth|res_bdy_len|      Sjit|     Djit|     Stime|     Ltime|     Sintpkt|     Dintpkt|      tcprtt|      synack|      ackdat|is_sm_ips_ports|ct_state_ttl|ct_flw_http_mthd|is_ftp_login|ct_ftp_cmd|ct_srv_src|ct_srv_dst|ct_dst_ltm|ct_src_ ltm|ct_src_dport_ltm|ct_dst_sport_ltm|ct_dst_src_ltm|Label|attack_cats|dstipIndex|protoIndex|stateIndex|serviceIndex|attack_catsIndex|srcipIndex|\n",
            "+----------+-----+-------------+------+-----+-----+------------+------+------+----+----+-----+-----+--------+---------+---------+-----+-----+----+----+----------+----------+-------+-------+-----------+-----------+----------+---------+----------+----------+------------+------------+------------+------------+------------+---------------+------------+----------------+------------+----------+----------+----------+----------+-----------+----------------+----------------+--------------+-----+-----------+----------+----------+----------+------------+----------------+----------+\n",
            "|59.166.0.3|56716|149.171.126.8|   143|  tcp|  FIN|  0.82546002|  7812| 16236|  31|  29|   30|   32|       -| 75090.25|156111.73|  122|  126| 255| 255|2751097753|2748686736|     64|    129|          0|          0| 445.25928| 474.9451|1421970774|1421970775|   6.8190908|    6.599896|5.9700001E-4|4.6899999E-4|     1.28E-4|              0|           0|               0|           0|         0|         2|         7|         1|          4|               1|               1|             1|    0|     Normal|       9.0|       0.0|       0.0|         0.0|             0.0|       5.0|\n",
            "|59.166.0.0|43467|149.171.126.6| 49729|  tcp|  FIN|    0.101815|  4238| 65628|  31|  29|    7|   30|       -|328438.84|5087030.5|   72|   74| 255| 255| 961515433|3225510659|     59|    887|          0|          0|       0.0|91.579567|1421970775|1421970775|    1.429493|    1.387192|      6.8E-4|5.4600002E-4|     1.34E-4|              0|           0|               0|           0|         0|         7|         4|         1|          6|               1|               1|             1|    0|     Normal|       8.0|       0.0|       0.0|         0.0|             0.0|       4.0|\n",
            "|59.166.0.5|41289|149.171.126.2|  9574|  tcp|  FIN| 0.044002999|  2750| 29104|  31|  29|    7|   17|       -|488693.97|5181101.5|   44|   48| 255| 255|3291096757|1191410228|     63|    606|          0|          0| 78.126968|62.206562|1421970775|1421970775|    1.014977|  0.92583001|     0.00125|     4.85E-4|     7.65E-4|              0|           0|               0|           0|         0|         3|         5|         3|          3|               1|               1|             1|    0|     Normal|       1.0|       0.0|       0.0|         0.0|             0.0|       2.0|\n",
            "|59.166.0.9|43785|149.171.126.0|  6881|  tcp|  FIN|   2.7908299| 10476|395734|  31|  29|   16|  143|       -|29863.518|1130840.8|  180|  320| 255| 255|3934392726|3961690324|     58|   1237|          0|          0| 2707.4927| 2018.976|1421970772|1421970775|   15.589459|   8.7470121|6.8400003E-4|5.3199998E-4|1.5199999E-4|              0|           0|               0|           0|         0|        11|         4|         3|          2|               1|               1|             1|    0|     Normal|       5.0|       0.0|       0.0|         0.0|             0.0|       6.0|\n",
            "|59.166.0.8|40691|149.171.126.9|  6881|  tcp|  FIN|   2.6335001| 13350|548216|  31|  29|   21|  197|       -|40381.238|1661560.6|  232|  438| 255| 255|   1518931|  18267719|     58|   1252|          0|          0| 718.33679|500.57288|1421970773|1421970775|   11.399026|   6.0251832|     6.19E-4|     4.89E-4|      1.3E-4|              0|           0|               0|           0|         0|        16|         7|         7|          1|               1|               1|             1|    0|     Normal|       6.0|       0.0|       0.0|         0.0|             0.0|       8.0|\n",
            "|59.166.0.3|20393|149.171.126.3|  5190|  tcp|  FIN|    0.115048|  1958|  2308|  31|  29|    6|    6|       -|129963.15|153814.06|   22|   24| 255| 255|3646899201|3651364285|     89|     96|          0|          0| 435.26627|417.08563|1421970775|1421970775|    5.460381|    4.976913|7.0999999E-4|     5.73E-4|     1.37E-4|              0|           0|               0|           0|         0|         2|         6|         1|          4|               1|               1|             1|    0|     Normal|       0.0|       0.0|       0.0|         0.0|             0.0|       5.0|\n",
            "|59.166.0.7|19792|149.171.126.0|    53|  udp|  CON|    0.003362|   146|   178|  31|  29|    0|    0|     dns|173706.13| 211778.7|    2|    2|   0|   0|         0|         0|     73|     89|          0|          0|       0.0|      0.0|1421970775|1421970775|       0.011|0.0060000001|         0.0|         0.0|         0.0|              0|           0|               0|           0|         0|         3|         2|         3|          3|               3|               1|             1|    0|     Normal|       5.0|       1.0|       1.0|         1.0|             0.0|       9.0|\n",
            "|59.166.0.3|14382|149.171.126.9|  3354|  tcp|  FIN|  0.45305201|   424|  8824|  31|  29|    1|    4|ftp-data| 6551.124| 142835.7|    8|   12| 255| 255|2206905053|3307670308|     53|    735|          0|          0| 3906.7949|3074.6694|1421970775|1421970775|   64.671288|   41.134998|      6.8E-4|5.5900001E-4|     1.21E-4|              0|           0|               0|           0|         0|         4|         6|         7|          4|               1|               1|             2|    0|     Normal|       6.0|       0.0|       0.0|         3.0|             0.0|       5.0|\n",
            "|59.166.0.9|37074|149.171.126.2|    53|  udp|  CON|    0.001088|   146|   178|  31|  29|    0|    0|     dns|536764.69|654411.75|    2|    2|   0|   0|         0|         0|     73|     89|          0|          0|       0.0|      0.0|1421970775|1421970775|       0.001|0.0089999996|         0.0|         0.0|         0.0|              0|           0|               0|           0|         0|         2|         5|         3|          2|               1|               1|             1|    0|     Normal|       1.0|       1.0|       1.0|         1.0|             0.0|       6.0|\n",
            "|59.166.0.7|12569|149.171.126.5|    53|  udp|  CON|9.6899999E-4|   146|   178|  31|  29|    0|    0|     dns|602683.19|734778.13|    2|    2|   0|   0|         0|         0|     73|     89|          0|          0|       0.0|      0.0|1421970775|1421970775|0.0099999998|       0.003|         0.0|         0.0|         0.0|              0|           0|               0|           0|         0|         3|         1|         2|          3|               3|               1|             1|    0|     Normal|       4.0|       1.0|       1.0|         1.0|             0.0|       9.0|\n",
            "|59.166.0.1|12792|149.171.126.7|    53|  udp|  CON|0.0010629999|   146|   178|  31|  29|    0|    0|     dns|549388.56| 669802.5|    2|    2|   0|   0|         0|         0|     73|     89|          0|          0|       0.0|      0.0|1421970780|1421970780|0.0020000001|       0.003|         0.0|         0.0|         0.0|              0|           0|               0|           0|         0|         5|         3|         2|          4|               3|               1|             1|    0|     Normal|       7.0|       1.0|       1.0|         1.0|             0.0|       1.0|\n",
            "|59.166.0.0|63414|149.171.126.9| 10330|  tcp|  FIN|  0.26501101|  8928|   320|  31|  29|    4|    1|ftp-data|250283.94|8060.0425|   14|    6| 255| 255|2386904726|3699988372|    638|     53|          0|          0| 1725.2916|71.464249|1421970775|1421970776|   20.385462|   52.644802|7.7500002E-4|6.3299999E-4|     1.42E-4|              0|           0|               0|           0|         0|         3|         6|         6|          5|               1|               1|             2|    0|     Normal|       6.0|       0.0|       0.0|         3.0|             0.0|       4.0|\n",
            "|59.166.0.1|33555|149.171.126.3|  6881|  tcp|  FIN|  0.51712799|  1540|  1644|  31|  29|    4|    4|       -|22338.764|  24025.0|   16|   18| 255| 255|1741520309|3943579644|     96|     91|          0|          0| 2036.1301| 51.91766|1421970776|1421970776|   34.433331|   30.388353|6.5399997E-4|5.2200002E-4|     1.32E-4|              0|           0|               0|           0|         0|         4|         6|         5|          7|               4|               1|             4|    0|     Normal|       0.0|       0.0|       0.0|         0.0|             0.0|       1.0|\n",
            "|59.166.0.8|10867|149.171.126.8|   111|  udp|  CON|0.0053389999|   568|   312|  31|  29|    0|    0|       -|638321.81|350627.47|    4|    4|   0|   0|         0|         0|    142|     78|          0|          0| 1.7430201| 1.757632|1421970776|1421970776|        1.24|    1.252333|         0.0|         0.0|         0.0|              0|           0|               0|           0|         0|        16|         7|         5|          5|               1|               1|             4|    0|     Normal|       9.0|       1.0|       1.0|         0.0|             0.0|       8.0|\n",
            "|59.166.0.8|12411|149.171.126.8|  1715|  udp|  CON|    0.001739|   512|   304|  31|  29|    0|    0|       -|1766532.5|1048878.6|    4|    4|   0|   0|         0|         0|    128|     76|          0|          0|0.63026798| 0.318434|1421970776|1421970776|  0.44966701|    0.227667|         0.0|         0.0|         0.0|              0|           0|               0|           0|         0|        16|         7|         5|          5|               1|               1|             4|    0|     Normal|       9.0|       1.0|       1.0|         0.0|             0.0|       8.0|\n",
            "|59.166.0.8|46725|149.171.126.2|    53|  udp|  CON|    0.001018|   146|   178|  31|  29|    0|    0|     dns|573673.88|699410.63|    2|    2|   0|   0|         0|         0|     73|     89|          0|          0|       0.0|      0.0|1421970776|1421970776|       0.011|       0.011|         0.0|         0.0|         0.0|              0|           0|               0|           0|         0|         2|         5|         3|          5|               1|               1|             1|    0|     Normal|       1.0|       1.0|       1.0|         1.0|             0.0|       8.0|\n",
            "|59.166.0.1|51562|149.171.126.4|    53|  udp|  CON|    0.001044|   146|   178|  31|  29|    0|    0|     dns|559386.94|681992.31|    2|    2|   0|   0|         0|         0|     73|     89|          0|          0|       0.0|      0.0|1421970776|1421970776|       0.011|       0.003|         0.0|         0.0|         0.0|              0|           0|               0|           0|         0|         2|         3|         5|          7|               2|               1|             3|    0|     Normal|       2.0|       1.0|       1.0|         1.0|             0.0|       1.0|\n",
            "|59.166.0.3|48838|149.171.126.2|    53|  udp|  CON|9.8699995E-4|   146|   178|  31|  29|    0|    0|     dns| 591692.0|721377.94|    2|    2|   0|   0|         0|         0|     73|     89|          0|          0|       0.0|      0.0|1421970776|1421970776|0.0080000004|       0.003|         0.0|         0.0|         0.0|              0|           0|               0|           0|         0|         2|         5|         3|          3|               1|               1|             1|    0|     Normal|       1.0|       1.0|       1.0|         1.0|             0.0|       5.0|\n",
            "|59.166.0.0|16907|149.171.126.9|    21|  tcp|  FIN|   2.2547121|  2934|  3740|  31|  29|   11|   15|     ftp|10211.503|13025.166|   52|   54| 255| 255| 241515551|2584135680|     56|     69|          0|          0| 3141.3708| 99.93412|1421970773|1421970776|   44.203648|   42.531734|6.6100003E-4|5.2499998E-4|     1.36E-4|              0|           0|               0|           0|         0|         1|         3|         6|          5|               1|               1|             2|    0|     Normal|       6.0|       0.0|       0.0|         5.0|             0.0|       4.0|\n",
            "|59.166.0.0| 1915|149.171.126.4| 32945|  tcp|  FIN| 0.051220998|  2854| 29104|  31|  29|    7|   17|       -|436071.16|4450987.0|   46|   48| 255| 255|1921515932|1974066994|     62|    606|          0|          0| 78.226654|76.387978|1421970776|1421970776|   1.1294219|   1.0781699|      8.1E-4|     5.43E-4|     2.67E-4|              0|           0|               0|           0|         0|         7|         2|         5|          5|               1|               1|             2|    0|     Normal|       2.0|       0.0|       0.0|         0.0|             0.0|       4.0|\n",
            "+----------+-----+-------------+------+-----+-----+------------+------+------+----+----+-----+-----+--------+---------+---------+-----+-----+----+----+----------+----------+-------+-------+-----------+-----------+----------+---------+----------+----------+------------+------------+------------+------------+------------+---------------+------------+----------------+------------+----------+----------+----------+----------+-----------+----------------+----------------+--------------+-----+-----------+----------+----------+----------+------------+----------------+----------+\n",
            "only showing top 20 rows\n",
            "\n"
          ]
        }
      ]
    },
    {
      "cell_type": "markdown",
      "source": [
        "## Creating Feature Vector"
      ],
      "metadata": {
        "id": "njSkO_U4spbD"
      }
    },
    {
      "cell_type": "code",
      "source": [
        "columns_to_drop = ['dstip', 'proto','state','service','attack_cats','srcip']\n",
        "datav = datav.drop(*columns_to_drop)"
      ],
      "metadata": {
        "id": "s4LPomzkxxjn"
      },
      "execution_count": null,
      "outputs": []
    },
    {
      "cell_type": "code",
      "source": [
        "cols=datav.columns\n",
        "assembler = VectorAssembler(inputCols=cols,outputCol='features')\n",
        "data = assembler.transform(datav)\n",
        "data.select('features', 'Label').show() #we can apply truncate=False to see all features"
      ],
      "metadata": {
        "colab": {
          "base_uri": "https://localhost:8080/"
        },
        "id": "s7XqbFgmsrPp",
        "outputId": "702cd464-e611-4789-dfda-6a6cb16a02a7"
      },
      "execution_count": null,
      "outputs": [
        {
          "output_type": "stream",
          "name": "stdout",
          "text": [
            "+--------------------+-----+\n",
            "|            features|Label|\n",
            "+--------------------+-----+\n",
            "|[56716.0,143.0,0....|    0|\n",
            "|[43467.0,49729.0,...|    0|\n",
            "|[41289.0,9574.0,0...|    0|\n",
            "|[43785.0,6881.0,2...|    0|\n",
            "|[40691.0,6881.0,2...|    0|\n",
            "|[20393.0,5190.0,0...|    0|\n",
            "|(49,[0,1,2,3,4,5,...|    0|\n",
            "|[14382.0,3354.0,0...|    0|\n",
            "|(49,[0,1,2,3,4,5,...|    0|\n",
            "|(49,[0,1,2,3,4,5,...|    0|\n",
            "|(49,[0,1,2,3,4,5,...|    0|\n",
            "|[63414.0,10330.0,...|    0|\n",
            "|[33555.0,6881.0,0...|    0|\n",
            "|(49,[0,1,2,3,4,5,...|    0|\n",
            "|(49,[0,1,2,3,4,5,...|    0|\n",
            "|(49,[0,1,2,3,4,5,...|    0|\n",
            "|(49,[0,1,2,3,4,5,...|    0|\n",
            "|(49,[0,1,2,3,4,5,...|    0|\n",
            "|[16907.0,21.0,2.2...|    0|\n",
            "|[1915.0,32945.0,0...|    0|\n",
            "+--------------------+-----+\n",
            "only showing top 20 rows\n",
            "\n"
          ]
        }
      ]
    },
    {
      "cell_type": "markdown",
      "source": [
        "## StandarScaler"
      ],
      "metadata": {
        "id": "2o2u_hNvx7DM"
      }
    },
    {
      "cell_type": "code",
      "source": [
        "standardscaler = StandardScaler(inputCol=\"features\", outputCol=\"features_scaled\")\n",
        "data=standardscaler.fit(data).transform(data)"
      ],
      "metadata": {
        "id": "iqHRNbHix9ph"
      },
      "execution_count": null,
      "outputs": []
    },
    {
      "cell_type": "markdown",
      "metadata": {
        "id": "jj2_pBZrImMH"
      },
      "source": [
        "## Renaming Columns "
      ]
    },
    {
      "cell_type": "code",
      "source": [
        "sdata = data.select('features_scaled', 'Label')"
      ],
      "metadata": {
        "id": "neKBFYX33CU3"
      },
      "execution_count": null,
      "outputs": []
    },
    {
      "cell_type": "code",
      "metadata": {
        "colab": {
          "base_uri": "https://localhost:8080/"
        },
        "id": "W4vQJZScXn1U",
        "outputId": "911e1ba6-cb94-41ec-97e8-8ba3188ff15c"
      },
      "source": [
        "assembled_data = sdata.withColumnRenamed(\"features_scaled\",\"features\")\n",
        "assembled_data.show()"
      ],
      "execution_count": null,
      "outputs": [
        {
          "output_type": "stream",
          "name": "stdout",
          "text": [
            "+--------------------+-----+\n",
            "|            features|Label|\n",
            "+--------------------+-----+\n",
            "|[2.77459021036591...|    0|\n",
            "|[2.12643897090724...|    0|\n",
            "|[2.01988954079621...|    0|\n",
            "|[2.14199577475265...|    0|\n",
            "|[1.99063492224415...|    0|\n",
            "|[0.99764119754552...|    0|\n",
            "|(49,[0,1,2,3,4,5,...|    0|\n",
            "|[0.70357846825380...|    0|\n",
            "|(49,[0,1,2,3,4,5,...|    0|\n",
            "|(49,[0,1,2,3,4,5,...|    0|\n",
            "|(49,[0,1,2,3,4,5,...|    0|\n",
            "|[3.10226150645574...|    0|\n",
            "|[1.64153633029177...|    0|\n",
            "|(49,[0,1,2,3,4,5,...|    0|\n",
            "|(49,[0,1,2,3,4,5,...|    0|\n",
            "|(49,[0,1,2,3,4,5,...|    0|\n",
            "|(49,[0,1,2,3,4,5,...|    0|\n",
            "|(49,[0,1,2,3,4,5,...|    0|\n",
            "|[0.82710340444771...|    0|\n",
            "|[0.09368326844013...|    0|\n",
            "+--------------------+-----+\n",
            "only showing top 20 rows\n",
            "\n"
          ]
        }
      ]
    },
    {
      "cell_type": "markdown",
      "source": [
        "#Split the data into training and test data \n"
      ],
      "metadata": {
        "id": "rHwNmNC6s4PY"
      }
    },
    {
      "cell_type": "code",
      "source": [
        "train_df,test_df=assembled_data.randomSplit([0.80,0.20])"
      ],
      "metadata": {
        "id": "N9JdKgPLs3wd"
      },
      "execution_count": null,
      "outputs": []
    },
    {
      "cell_type": "code",
      "source": [
        "from pyspark.ml.classification import DecisionTreeClassifier\n",
        "from pyspark.mllib.evaluation import BinaryClassificationMetrics\n",
        "from pyspark.ml.evaluation import MulticlassClassificationEvaluator"
      ],
      "metadata": {
        "id": "vMH-IVij0gfY"
      },
      "execution_count": null,
      "outputs": []
    },
    {
      "cell_type": "markdown",
      "source": [
        "## Decision Tree"
      ],
      "metadata": {
        "id": "Co-MTPj-tNKb"
      }
    },
    {
      "cell_type": "code",
      "execution_count": null,
      "metadata": {
        "id": "44zMJqtGPkcR"
      },
      "outputs": [],
      "source": [
        "dtc = DecisionTreeClassifier(featuresCol='features',labelCol='Label')"
      ]
    },
    {
      "cell_type": "code",
      "execution_count": null,
      "metadata": {
        "id": "3Q6Xblw8PkcS"
      },
      "outputs": [],
      "source": [
        "dtc_model = dtc.fit(train_df) "
      ]
    },
    {
      "cell_type": "markdown",
      "source": [
        "# Prediction"
      ],
      "metadata": {
        "id": "GLjqAYzo34-9"
      }
    },
    {
      "cell_type": "code",
      "execution_count": null,
      "metadata": {
        "id": "Ik3mCEDSPkcS"
      },
      "outputs": [],
      "source": [
        "dtc_prediction = dtc_model.transform(test_df)"
      ]
    },
    {
      "cell_type": "code",
      "source": [
        "dtc_prediction.show()"
      ],
      "metadata": {
        "colab": {
          "base_uri": "https://localhost:8080/"
        },
        "id": "cM3KLvMy4aq4",
        "outputId": "323d72a4-6746-4338-b602-250f90880dbf"
      },
      "execution_count": null,
      "outputs": [
        {
          "output_type": "stream",
          "name": "stdout",
          "text": [
            "+--------------------+-----+---------------+-----------+----------+\n",
            "|            features|Label|  rawPrediction|probability|prediction|\n",
            "+--------------------+-----+---------------+-----------+----------+\n",
            "|(49,[0,1,2,3,4,5,...|    0|[1775368.0,0.0]|  [1.0,0.0]|       0.0|\n",
            "|(49,[0,1,2,3,4,5,...|    0|[1775368.0,0.0]|  [1.0,0.0]|       0.0|\n",
            "|(49,[0,1,2,3,4,5,...|    0|[1775368.0,0.0]|  [1.0,0.0]|       0.0|\n",
            "|(49,[0,1,2,3,4,5,...|    0|[1775368.0,0.0]|  [1.0,0.0]|       0.0|\n",
            "|(49,[0,1,2,3,4,5,...|    0|[1775368.0,0.0]|  [1.0,0.0]|       0.0|\n",
            "|(49,[0,1,2,3,4,5,...|    0|[1775368.0,0.0]|  [1.0,0.0]|       0.0|\n",
            "|(49,[0,1,2,3,4,5,...|    0|[1775368.0,0.0]|  [1.0,0.0]|       0.0|\n",
            "|(49,[0,1,2,3,4,5,...|    0|[1775368.0,0.0]|  [1.0,0.0]|       0.0|\n",
            "|(49,[0,1,2,3,4,5,...|    0|[1775368.0,0.0]|  [1.0,0.0]|       0.0|\n",
            "|(49,[0,1,2,3,4,5,...|    0|[1775368.0,0.0]|  [1.0,0.0]|       0.0|\n",
            "|(49,[0,1,2,3,4,5,...|    0|[1775368.0,0.0]|  [1.0,0.0]|       0.0|\n",
            "|(49,[0,1,2,3,4,5,...|    0|[1775368.0,0.0]|  [1.0,0.0]|       0.0|\n",
            "|(49,[0,1,2,3,4,5,...|    0|[1775368.0,0.0]|  [1.0,0.0]|       0.0|\n",
            "|(49,[0,1,2,3,4,5,...|    0|[1775368.0,0.0]|  [1.0,0.0]|       0.0|\n",
            "|(49,[0,1,2,3,4,5,...|    0|[1775368.0,0.0]|  [1.0,0.0]|       0.0|\n",
            "|(49,[0,1,2,3,4,5,...|    0|[1775368.0,0.0]|  [1.0,0.0]|       0.0|\n",
            "|(49,[0,1,2,3,4,5,...|    0|[1775368.0,0.0]|  [1.0,0.0]|       0.0|\n",
            "|(49,[0,1,2,3,4,5,...|    0|[1775368.0,0.0]|  [1.0,0.0]|       0.0|\n",
            "|(49,[0,1,2,3,4,5,...|    0|[1775368.0,0.0]|  [1.0,0.0]|       0.0|\n",
            "|(49,[0,1,2,3,4,5,...|    0|[1775368.0,0.0]|  [1.0,0.0]|       0.0|\n",
            "+--------------------+-----+---------------+-----------+----------+\n",
            "only showing top 20 rows\n",
            "\n"
          ]
        }
      ]
    },
    {
      "cell_type": "markdown",
      "source": [
        "## Evaluation"
      ],
      "metadata": {
        "id": "5AhL3rfs3XuU"
      }
    },
    {
      "cell_type": "code",
      "execution_count": null,
      "metadata": {
        "id": "uYyOQ3_kPkcS"
      },
      "outputs": [],
      "source": [
        "#import the library\n",
        "from pyspark.ml.evaluation import MulticlassClassificationEvaluator\n",
        "dtc_accuracy=MulticlassClassificationEvaluator(labelCol='Label',metricName='accuracy').evaluate(dtc_prediction)"
      ]
    },
    {
      "cell_type": "code",
      "execution_count": null,
      "metadata": {
        "id": "wI7tIWSEPkcS",
        "outputId": "deeef62e-3ac1-4716-871a-d2b5a72ed425",
        "colab": {
          "base_uri": "https://localhost:8080/"
        }
      },
      "outputs": [
        {
          "output_type": "stream",
          "name": "stdout",
          "text": [
            "The accuracy of Decission Tree Classifier on test data is 100.00%\n"
          ]
        }
      ],
      "source": [
        "print('The accuracy of Decission Tree Classifier on test data is {0:.2%}'.format(dtc_accuracy))"
      ]
    },
    {
      "cell_type": "markdown",
      "source": [
        "## Confusion Matrix"
      ],
      "metadata": {
        "id": "pagXBhOC4npK"
      }
    },
    {
      "cell_type": "code",
      "source": [
        "y_test = dtc_prediction.select('Label').toPandas()\n",
        "y_test_pred = dtc_prediction.select('prediction').toPandas()"
      ],
      "metadata": {
        "id": "Ia2Gi1Ld4jWe"
      },
      "execution_count": null,
      "outputs": []
    },
    {
      "cell_type": "code",
      "source": [
        "cf_matrix = confusion_matrix(y_test, y_test_pred)\n",
        "cf_matrix"
      ],
      "metadata": {
        "colab": {
          "base_uri": "https://localhost:8080/"
        },
        "id": "suy1b6yD48em",
        "outputId": "99585c8b-9b23-4037-e4ae-c8bc5faa3950"
      },
      "execution_count": null,
      "outputs": [
        {
          "output_type": "execute_result",
          "data": {
            "text/plain": [
              "array([[443088,      0],\n",
              "       [     0,  64276]])"
            ]
          },
          "metadata": {},
          "execution_count": 65
        }
      ]
    },
    {
      "cell_type": "code",
      "source": [
        "import seaborn as sns\n",
        "\n",
        "ax = sns.heatmap(cf_matrix, annot=True, cmap='Blues')\n",
        "\n",
        "ax.set_title('Seaborn Confusion Matrix with labels\\n\\n');\n",
        "ax.set_xlabel('\\nPredicted Values')\n",
        "ax.set_ylabel('Actual Values ');\n",
        "\n",
        "## Ticket labels - List must be in alphabetical order\n",
        "ax.xaxis.set_ticklabels(['Normal','Attack'])\n",
        "ax.yaxis.set_ticklabels(['Normal','Attack'])\n",
        "\n",
        "## Display the visualization of the Confusion Matrix.\n",
        "plt.show()"
      ],
      "metadata": {
        "colab": {
          "base_uri": "https://localhost:8080/",
          "height": 337
        },
        "id": "TTck5It14sgL",
        "outputId": "fd9cc233-f043-4789-bb10-32b84c488194"
      },
      "execution_count": null,
      "outputs": [
        {
          "output_type": "display_data",
          "data": {
            "image/png": "[encoded data removed]",
            "text/plain": [
              "<Figure size 432x288 with 2 Axes>"
            ]
          },
          "metadata": {
            "needs_background": "light"
          }
        }
      ]
    },
    {
      "cell_type": "code",
      "source": [
        "dtc_precision=MulticlassClassificationEvaluator(labelCol='Label',metricName='weightedPrecision').evaluate(dtc_prediction)\n",
        "dtc_Recall=MulticlassClassificationEvaluator(labelCol='Label',metricName='weightedRecall').evaluate(dtc_prediction)\n",
        "dtc_FM=MulticlassClassificationEvaluator(labelCol='Label',metricName='weightedFMeasure').evaluate(dtc_prediction)\n",
        "print('The precision of Decission Tree Classifier on test data is {0:.2%}'.format(dtc_precision))\n",
        "print('The Recall of Decission Tree Classifier on test data is {0:.2%}'.format(dtc_precision))\n",
        "print('The FM of Decission Tree Classifier on test data is {0:.2%}'.format(dtc_precision))"
      ],
      "metadata": {
        "colab": {
          "base_uri": "https://localhost:8080/"
        },
        "id": "tgchrLY24h7X",
        "outputId": "e8b8f272-2fb1-4821-e353-58b502770e36"
      },
      "execution_count": null,
      "outputs": [
        {
          "output_type": "stream",
          "name": "stdout",
          "text": [
            "The precision of Decission Tree Classifier on test data is 100.00%\n",
            "The Recall of Decission Tree Classifier on test data is 100.00%\n",
            "The FM of Decission Tree Classifier on test data is 100.00%\n"
          ]
        }
      ]
    },
    {
      "cell_type": "markdown",
      "metadata": {
        "id": "WQY8FHtrPkcV"
      },
      "source": [
        "# Part B "
      ]
    },
    {
      "cell_type": "markdown",
      "source": [
        "## Multi-Classification"
      ],
      "metadata": {
        "id": "fRtHzpTD7Tvo"
      }
    },
    {
      "cell_type": "markdown",
      "metadata": {
        "id": "ee9zpviIPkcV"
      },
      "source": [
        "In this part build the Mutli class classifier model to classify the data into ten classes categories normal, Fuzzers, analysis, Backdoors, Dos, Exploits, Generic, Reconnaissance, Shellcode and Worms. "
      ]
    },
    {
      "cell_type": "code",
      "source": [
        "datas = data.select('features_scaled', 'attack_catsIndex')"
      ],
      "metadata": {
        "id": "SrLYSv_r7m8S"
      },
      "execution_count": null,
      "outputs": []
    },
    {
      "cell_type": "markdown",
      "metadata": {
        "id": "KggOI8nc8O_l"
      },
      "source": [
        "## Renaming Columns "
      ]
    },
    {
      "cell_type": "code",
      "metadata": {
        "colab": {
          "base_uri": "https://localhost:8080/"
        },
        "outputId": "3488d7f6-a730-4fe8-a980-419530cd5239",
        "id": "qIZRsF698O_l"
      },
      "source": [
        "assembled_data = datas.withColumnRenamed(\"features_scaled\",\"features\")\n",
        "assembled_data = assembled_data.withColumnRenamed(\"attack_catsIndex\",\"Label\")\n",
        "assembled_data.show()"
      ],
      "execution_count": null,
      "outputs": [
        {
          "output_type": "stream",
          "name": "stdout",
          "text": [
            "+--------------------+-----+\n",
            "|            features|Label|\n",
            "+--------------------+-----+\n",
            "|[2.77459021036591...|  0.0|\n",
            "|[2.12643897090724...|  0.0|\n",
            "|[2.01988954079621...|  0.0|\n",
            "|[2.14199577475265...|  0.0|\n",
            "|[1.99063492224415...|  0.0|\n",
            "|[0.99764119754552...|  0.0|\n",
            "|(49,[0,1,2,3,4,5,...|  0.0|\n",
            "|[0.70357846825380...|  0.0|\n",
            "|(49,[0,1,2,3,4,5,...|  0.0|\n",
            "|(49,[0,1,2,3,4,5,...|  0.0|\n",
            "|(49,[0,1,2,3,4,5,...|  0.0|\n",
            "|[3.10226150645574...|  0.0|\n",
            "|[1.64153633029177...|  0.0|\n",
            "|(49,[0,1,2,3,4,5,...|  0.0|\n",
            "|(49,[0,1,2,3,4,5,...|  0.0|\n",
            "|(49,[0,1,2,3,4,5,...|  0.0|\n",
            "|(49,[0,1,2,3,4,5,...|  0.0|\n",
            "|(49,[0,1,2,3,4,5,...|  0.0|\n",
            "|[0.82710340444771...|  0.0|\n",
            "|[0.09368326844013...|  0.0|\n",
            "+--------------------+-----+\n",
            "only showing top 20 rows\n",
            "\n"
          ]
        }
      ]
    },
    {
      "cell_type": "markdown",
      "source": [
        "#Split the data into training and test data \n"
      ],
      "metadata": {
        "id": "rsx-eGwh8O_m"
      }
    },
    {
      "cell_type": "code",
      "source": [
        "trainf_df,testf_df=assembled_data.randomSplit([0.80,0.20])"
      ],
      "metadata": {
        "id": "EJXIBm9c8O_m"
      },
      "execution_count": null,
      "outputs": []
    },
    {
      "cell_type": "markdown",
      "metadata": {
        "id": "dCSO3z_dPkcW"
      },
      "source": [
        "## Decision Tree Classifier "
      ]
    },
    {
      "cell_type": "code",
      "source": [
        "from pyspark.ml.classification import OneVsRest"
      ],
      "metadata": {
        "id": "5k5DwB_7Bl36"
      },
      "execution_count": null,
      "outputs": []
    },
    {
      "cell_type": "code",
      "execution_count": null,
      "metadata": {
        "id": "DBl3_vd2PkcX"
      },
      "outputs": [],
      "source": [
        "dtcm = DecisionTreeClassifier(featuresCol='features',labelCol='Label')"
      ]
    },
    {
      "cell_type": "code",
      "execution_count": null,
      "metadata": {
        "id": "oHKcZHxZPkcX"
      },
      "outputs": [],
      "source": [
        "dfr = OneVsRest(classifier=dtcm)\n",
        "dtc_modelm = dfr.fit(trainf_df) "
      ]
    },
    {
      "cell_type": "markdown",
      "source": [
        "## Prediction"
      ],
      "metadata": {
        "id": "TBn3660198tS"
      }
    },
    {
      "cell_type": "code",
      "execution_count": null,
      "metadata": {
        "id": "pBM37oDkPkcX"
      },
      "outputs": [],
      "source": [
        "# test model on test data\n",
        "dtc_predictionm = dtc_modelm.transform(testf_df)"
      ]
    },
    {
      "cell_type": "code",
      "source": [
        "dtc_predictionm.show(5)"
      ],
      "metadata": {
        "colab": {
          "base_uri": "https://localhost:8080/"
        },
        "id": "RSNKkGgzAMfo",
        "outputId": "9c3635eb-6c80-44c4-b391-81e181e8cd2b"
      },
      "execution_count": null,
      "outputs": [
        {
          "output_type": "stream",
          "name": "stdout",
          "text": [
            "+--------------------+-----+--------------------+----------+\n",
            "|            features|Label|       rawPrediction|prediction|\n",
            "+--------------------+-----+--------------------+----------+\n",
            "|(49,[0,1,2,3,4,5,...|  0.0|[1773881.0,0.0,0....|       0.0|\n",
            "|(49,[0,1,2,3,4,5,...|  0.0|[1773881.0,0.0,0....|       0.0|\n",
            "|(49,[0,1,2,3,4,5,...|  0.0|[1773881.0,0.0,0....|       0.0|\n",
            "|(49,[0,1,2,3,4,5,...|  0.0|[1773881.0,0.0,0....|       0.0|\n",
            "|(49,[0,1,2,3,4,5,...|  0.0|[1773881.0,0.0,0....|       0.0|\n",
            "+--------------------+-----+--------------------+----------+\n",
            "only showing top 5 rows\n",
            "\n"
          ]
        }
      ]
    },
    {
      "cell_type": "markdown",
      "source": [
        "## Evaluation"
      ],
      "metadata": {
        "id": "HC3qC3eaAFfk"
      }
    },
    {
      "cell_type": "code",
      "execution_count": null,
      "metadata": {
        "id": "_GY7ZhVTAFfk"
      },
      "outputs": [],
      "source": [
        "#import the library\n",
        "dtc_accuracy=MulticlassClassificationEvaluator(labelCol='Label',metricName='accuracy').evaluate(dtc_predictionm)"
      ]
    },
    {
      "cell_type": "code",
      "execution_count": null,
      "metadata": {
        "outputId": "4b98e13f-bcd4-48cf-976e-fa656bf60607",
        "colab": {
          "base_uri": "https://localhost:8080/"
        },
        "id": "sJ5TtyPCAFfk"
      },
      "outputs": [
        {
          "output_type": "stream",
          "name": "stdout",
          "text": [
            "The accuracy of Decission Tree Classifier on test data is 100.00%\n"
          ]
        }
      ],
      "source": [
        "print('The accuracy of Decission Tree Classifier on test data is {0:.2%}'.format(dtc_accuracy))"
      ]
    },
    {
      "cell_type": "markdown",
      "source": [
        "## Confusion Matrix"
      ],
      "metadata": {
        "id": "92MOBNkBAFfl"
      }
    },
    {
      "cell_type": "code",
      "source": [
        "y_test = dtc_predictionm.select('Label').toPandas()\n",
        "y_test_pred = dtc_predictionm.select('prediction').toPandas()"
      ],
      "metadata": {
        "id": "2wDjovU3AFfl"
      },
      "execution_count": null,
      "outputs": []
    },
    {
      "cell_type": "code",
      "source": [
        "cf_matrix = confusion_matrix(y_test, y_test_pred)"
      ],
      "metadata": {
        "id": "GiLTlhdHAFfl"
      },
      "execution_count": null,
      "outputs": []
    },
    {
      "cell_type": "code",
      "source": [
        "f, ax = plt.subplots(figsize=(10,10))\n",
        "sns.heatmap(cf_matrix, annot=True, linewidth=0.7, linecolor='cyan', fmt='.0f', ax=ax, cmap='Blues')\n",
        "plt.title('Multi Class Confusion Matrix')\n",
        "plt.xlabel('Prediction')\n",
        "plt.ylabel('Actual')\n",
        "plt.show()"
      ],
      "metadata": {
        "colab": {
          "base_uri": "https://localhost:8080/",
          "height": 622
        },
        "id": "d4fXoee2BbUO",
        "outputId": "d65a7b7e-743b-4828-a4e1-8622ccc48828"
      },
      "execution_count": null,
      "outputs": [
        {
          "data": {
            "image/png": "[encoded data removed]",
            "text/plain": [
              "<Figure size 720x720 with 2 Axes>"
            ]
          },
          "metadata": {},
          "output_type": "display_data"
        }
      ]
    },
    {
      "cell_type": "code",
      "execution_count": null,
      "metadata": {
        "id": "JYbGFaBsPkcX",
        "colab": {
          "base_uri": "https://localhost:8080/"
        },
        "outputId": "a9a88001-0ca3-409b-f8a6-b821d328870b"
      },
      "outputs": [
        {
          "output_type": "stream",
          "name": "stdout",
          "text": [
            "The precision of Decission Tree Classifier on test data is 100.00%\n",
            "The Recall of Decission Tree Classifier on test data is 100.00%\n",
            "The FM of Decission Tree Classifier on test data is 100.00%\n"
          ]
        }
      ],
      "source": [
        "dtc_precision=MulticlassClassificationEvaluator(labelCol='Label',metricName='weightedPrecision').evaluate(dtc_predictionm)\n",
        "dtc_Recall=MulticlassClassificationEvaluator(labelCol='Label',metricName='weightedRecall').evaluate(dtc_predictionm)\n",
        "dtc_FM=MulticlassClassificationEvaluator(labelCol='Label',metricName='weightedFMeasure').evaluate(dtc_predictionm)\n",
        "print('The precision of Decission Tree Classifier on test data is {0:.2%}'.format(dtc_precision))\n",
        "print('The Recall of Decission Tree Classifier on test data is {0:.2%}'.format(dtc_precision))\n",
        "print('The FM of Decission Tree Classifier on test data is {0:.2%}'.format(dtc_precision))"
      ]
    },
    {
      "cell_type": "markdown",
      "source": [
        "## Classification Report"
      ],
      "metadata": {
        "id": "aFeDESbNWGZo"
      }
    },
    {
      "cell_type": "code",
      "source": [
        "print(classification_report(y_test, y_test_pred))"
      ],
      "metadata": {
        "colab": {
          "base_uri": "https://localhost:8080/"
        },
        "id": "8wsVkJZpWGRO",
        "outputId": "05cf81fe-a269-466c-dc8e-17c1712036fe"
      },
      "execution_count": null,
      "outputs": [
        {
          "output_type": "stream",
          "name": "stdout",
          "text": [
            "              precision    recall  f1-score   support\n",
            "\n",
            "         0.0       1.00      1.00      1.00    444575\n",
            "         1.0       1.00      1.00      1.00     43217\n",
            "         2.0       1.00      1.00      1.00      8836\n",
            "         3.0       1.00      1.00      1.00      3793\n",
            "         4.0       1.00      1.00      1.00      3277\n",
            "         5.0       1.00      1.00      1.00      2403\n",
            "         6.0       1.00      1.00      1.00       980\n",
            "         7.0       1.00      1.00      1.00       541\n",
            "         8.0       1.00      1.00      1.00       366\n",
            "         9.0       1.00      1.00      1.00       358\n",
            "        10.0       1.00      1.00      1.00       270\n",
            "        11.0       1.00      1.00      1.00       103\n",
            "        12.0       0.98      0.98      0.98        48\n",
            "        13.0       0.98      0.98      0.98        46\n",
            "\n",
            "    accuracy                           1.00    508813\n",
            "   macro avg       1.00      1.00      1.00    508813\n",
            "weighted avg       1.00      1.00      1.00    508813\n",
            "\n"
          ]
        }
      ]
    }
  ]
}